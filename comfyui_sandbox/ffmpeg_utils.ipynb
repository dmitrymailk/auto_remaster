{
 "cells": [
  {
   "cell_type": "code",
   "execution_count": 4,
   "metadata": {},
   "outputs": [
    {
     "name": "stderr",
     "output_type": "stream",
     "text": [
      "ffmpeg version N-71064-gd5e603ddc0-static https://johnvansickle.com/ffmpeg/  Copyright (c) 2000-2024 the FFmpeg developers\n",
      "  built with gcc 8 (Debian 8.3.0-6)\n",
      "  configuration: --enable-gpl --enable-version3 --enable-static --disable-debug --disable-ffplay --disable-indev=sndio --disable-outdev=sndio --cc=gcc --enable-fontconfig --enable-frei0r --enable-gnutls --enable-gmp --enable-libgme --enable-gray --enable-libaom --enable-libfribidi --enable-libass --enable-libvmaf --enable-libfreetype --enable-libmp3lame --enable-libopencore-amrnb --enable-libopencore-amrwb --enable-libopenjpeg --enable-librubberband --enable-libsoxr --enable-libspeex --enable-libsrt --enable-libvorbis --enable-libopus --enable-libtheora --enable-libvidstab --enable-libvo-amrwbenc --enable-libvpx --enable-libwebp --enable-libx264 --enable-libx265 --enable-libxml2 --enable-libdav1d --enable-libxvid --enable-libzvbi --enable-libzimg\n",
      "  libavutil      59. 27.100 / 59. 27.100\n",
      "  libavcodec     61.  9.100 / 61.  9.100\n",
      "  libavformat    61.  4.100 / 61.  4.100\n",
      "  libavdevice    61.  2.100 / 61.  2.100\n",
      "  libavfilter    10.  2.102 / 10.  2.102\n",
      "  libswscale      8.  2.100 /  8.  2.100\n",
      "  libswresample   5.  2.100 /  5.  2.100\n",
      "  libpostproc    58.  2.100 / 58.  2.100\n",
      "Input #0, mov,mp4,m4a,3gp,3g2,mj2, from 'diffusers_experiments/nfs_24fps.mp4':\n",
      "  Metadata:\n",
      "    major_brand     : isom\n",
      "    minor_version   : 512\n",
      "    compatible_brands: isomiso2avc1mp41\n",
      "    encoder         : Lavf61.4.100\n",
      "  Duration: 00:03:36.33, start: 0.000000, bitrate: 10056 kb/s\n",
      "  Stream #0:0[0x1](und): Video: h264 (High) (avc1 / 0x31637661), yuv420p(tv, unknown/bt709/bt709, progressive), 1920x1080, 10053 kb/s, 24 fps, 24 tbr, 12288 tbn (default)\n",
      "      Metadata:\n",
      "        handler_name    : VideoHandler\n",
      "        vendor_id       : [0][0][0][0]\n",
      "        encoder         : Lavc61.9.100 libx264\n",
      "Stream mapping:\n",
      "  Stream #0:0 -> #0:0 (h264 (native) -> png (native))\n",
      "Press [q] to stop, [?] for help\n",
      "Output #0, image2, to 'diffusers_experiments/nfs_24fps/%04d.png':\n",
      "  Metadata:\n",
      "    major_brand     : isom\n",
      "    minor_version   : 512\n",
      "    compatible_brands: isomiso2avc1mp41\n",
      "    encoder         : Lavf61.4.100\n",
      "  Stream #0:0(und): Video: png, rgb24(pc, gbr/bt709/bt709, progressive), 1920x1080, q=2-31, 200 kb/s, 24 fps, 24 tbn (default)\n",
      "      Metadata:\n",
      "        handler_name    : VideoHandler\n",
      "        vendor_id       : [0][0][0][0]\n",
      "        encoder         : Lavc61.9.100 png\n",
      "[out#0/image2 @ 0x871dd00] video:10966007KiB audio:0KiB subtitle:0KiB other streams:0KiB global headers:0KiB muxing overhead: unknown\n",
      "frame= 5192 fps= 65 q=-0.0 Lsize=N/A time=00:03:36.33 bitrate=N/A speed=2.72x    \n"
     ]
    },
    {
     "data": {
      "text/plain": [
       "0"
      ]
     },
     "execution_count": 4,
     "metadata": {},
     "output_type": "execute_result"
    }
   ],
   "source": [
    "import os\n",
    "\n",
    "video_path = \"diffusers_experiments/nfs_24fps.mp4\"\n",
    "video_folder = \"diffusers_experiments/nfs_24fps\"\n",
    "\n",
    "\n",
    "os.system(\n",
    "    f\"\"\"\n",
    "mkdir -p {video_folder} &&\n",
    "\n",
    "ffmpeg/ffmpeg -i {video_path} -vf fps=24 {video_folder}/%04d.png          \n",
    "\n",
    "\"\"\"\n",
    ")"
   ]
  },
  {
   "cell_type": "code",
   "execution_count": 1,
   "metadata": {},
   "outputs": [
    {
     "name": "stderr",
     "output_type": "stream",
     "text": [
      "ffmpeg version N-71064-gd5e603ddc0-static https://johnvansickle.com/ffmpeg/  Copyright (c) 2000-2024 the FFmpeg developers\n",
      "  built with gcc 8 (Debian 8.3.0-6)\n",
      "  configuration: --enable-gpl --enable-version3 --enable-static --disable-debug --disable-ffplay --disable-indev=sndio --disable-outdev=sndio --cc=gcc --enable-fontconfig --enable-frei0r --enable-gnutls --enable-gmp --enable-libgme --enable-gray --enable-libaom --enable-libfribidi --enable-libass --enable-libvmaf --enable-libfreetype --enable-libmp3lame --enable-libopencore-amrnb --enable-libopencore-amrwb --enable-libopenjpeg --enable-librubberband --enable-libsoxr --enable-libspeex --enable-libsrt --enable-libvorbis --enable-libopus --enable-libtheora --enable-libvidstab --enable-libvo-amrwbenc --enable-libvpx --enable-libwebp --enable-libx264 --enable-libx265 --enable-libxml2 --enable-libdav1d --enable-libxvid --enable-libzvbi --enable-libzimg\n",
      "  libavutil      59. 27.100 / 59. 27.100\n",
      "  libavcodec     61.  9.100 / 61.  9.100\n",
      "  libavformat    61.  4.100 / 61.  4.100\n",
      "  libavdevice    61.  2.100 / 61.  2.100\n",
      "  libavfilter    10.  2.102 / 10.  2.102\n",
      "  libswscale      8.  2.100 /  8.  2.100\n",
      "  libswresample   5.  2.100 /  5.  2.100\n",
      "  libpostproc    58.  2.100 / 58.  2.100\n",
      "Input #0, image2, from 'diffusers_experiments/comfy_nfs_24_fps_out_7/*.png':\n",
      "  Duration: 00:01:02.46, start: 0.000000, bitrate: N/A\n",
      "  Stream #0:0: Video: png, rgb24(pc, gbr/unknown/unknown), 1920x1080, 24 fps, 24 tbr, 24 tbn\n",
      "Stream mapping:\n",
      "  Stream #0:0 -> #0:0 (png (native) -> h264 (libx264))\n",
      "Press [q] to stop, [?] for help\n",
      "[libx264 @ 0x87980c0] using cpu capabilities: MMX2 SSE2Fast SSSE3 SSE4.2 AVX FMA3 BMI2 AVX2 AVX512\n",
      "[libx264 @ 0x87980c0] profile High, level 4.0, 4:2:0, 8-bit\n",
      "[libx264 @ 0x87980c0] 264 - core 164 r3191 4613ac3 - H.264/MPEG-4 AVC codec - Copyleft 2003-2024 - http://www.videolan.org/x264.html - options: cabac=1 ref=3 deblock=1:0:0 analyse=0x3:0x113 me=hex subme=7 psy=1 psy_rd=1.00:0.00 mixed_ref=1 me_range=16 chroma_me=1 trellis=1 8x8dct=1 cqm=0 deadzone=21,11 fast_pskip=1 chroma_qp_offset=-2 threads=18 lookahead_threads=3 sliced_threads=0 nr=0 decimate=1 interlaced=0 bluray_compat=0 constrained_intra=0 bframes=3 b_pyramid=2 b_adapt=1 b_bias=0 direct=1 weightb=1 open_gop=0 weightp=2 keyint=250 keyint_min=24 scenecut=40 intra_refresh=0 rc_lookahead=40 rc=crf mbtree=1 crf=23.0 qcomp=0.60 qpmin=0 qpmax=69 qpstep=4 ip_ratio=1.40 aq=1:1.00\n",
      "Output #0, mp4, to 'diffusers_experiments/comfy_nfs_24_fps_out_7.mp4':\n",
      "  Metadata:\n",
      "    encoder         : Lavf61.4.100\n",
      "  Stream #0:0: Video: h264 (avc1 / 0x31637661), yuv420p(progressive), 1920x1080, q=2-31, 24 fps, 12288 tbn\n",
      "      Metadata:\n",
      "        encoder         : Lavc61.9.100 libx264\n",
      "      Side data:\n",
      "        cpb: bitrate max/min/avg: 0/0/0 buffer size: 0 vbv_delay: N/A\n",
      "[out#0/mp4 @ 0x8796f40] video:113185KiB audio:0KiB subtitle:0KiB other streams:0KiB global headers:0KiB muxing overhead: 0.015931%\n",
      "frame= 1499 fps= 36 q=-1.0 Lsize=  113203KiB time=00:01:02.37 bitrate=14867.5kbits/s speed=1.51x    \n",
      "[libx264 @ 0x87980c0] frame I:31    Avg QP:23.37  size:115395\n",
      "[libx264 @ 0x87980c0] frame P:539   Avg QP:26.18  size: 81307\n",
      "[libx264 @ 0x87980c0] frame B:929   Avg QP:26.52  size: 73734\n",
      "[libx264 @ 0x87980c0] consecutive B-frames: 16.6%  1.1%  3.6% 78.7%\n",
      "[libx264 @ 0x87980c0] mb I  I16..4: 13.5% 60.7% 25.8%\n",
      "[libx264 @ 0x87980c0] mb P  I16..4: 13.1% 47.2% 14.2%  P16..4: 15.1%  6.6%  2.4%  0.0%  0.0%    skip: 1.4%\n",
      "[libx264 @ 0x87980c0] mb B  I16..4:  9.4% 27.6%  9.1%  B16..8: 24.1% 13.4%  2.7%  direct: 7.7%  skip: 5.9%  L0:50.1% L1:41.8% BI: 8.1%\n",
      "[libx264 @ 0x87980c0] 8x8 transform intra:61.4% inter:72.2%\n",
      "[libx264 @ 0x87980c0] coded y,uvDC,uvAC intra: 57.1% 63.4% 17.5% inter: 47.6% 68.9% 5.2%\n",
      "[libx264 @ 0x87980c0] i16 v,h,dc,p: 11% 33%  4% 52%\n",
      "[libx264 @ 0x87980c0] i8 v,h,dc,ddl,ddr,vr,hd,vl,hu: 17% 27% 15%  6%  7%  5% 10%  5%  9%\n",
      "[libx264 @ 0x87980c0] i4 v,h,dc,ddl,ddr,vr,hd,vl,hu: 21% 29% 14%  6%  6%  5%  8%  4%  6%\n",
      "[libx264 @ 0x87980c0] i8c dc,h,v,p: 51% 28% 14%  7%\n",
      "[libx264 @ 0x87980c0] Weighted P-Frames: Y:11.3% UV:8.9%\n",
      "[libx264 @ 0x87980c0] ref P L0: 41.4% 11.6% 26.2% 18.5%  2.3%\n",
      "[libx264 @ 0x87980c0] ref B L0: 72.3% 21.3%  6.4%\n",
      "[libx264 @ 0x87980c0] ref B L1: 86.9% 13.1%\n",
      "[libx264 @ 0x87980c0] kb/s:14845.20\n"
     ]
    },
    {
     "data": {
      "text/plain": [
       "0"
      ]
     },
     "execution_count": 1,
     "metadata": {},
     "output_type": "execute_result"
    }
   ],
   "source": [
    "import os\n",
    "from IPython.display import Video\n",
    "\n",
    "# -loglevel error\n",
    "output_name = \"diffusers_experiments/comfy_nfs_24_fps_out_7.mp4\"\n",
    "video_folder = \"diffusers_experiments/comfy_nfs_24_fps_out_7\"\n",
    "os.system(\n",
    "    f\"\"\"\n",
    "ffmpeg/ffmpeg -framerate 24  -pattern_type glob -i '{video_folder}/*.png' -c:v libx264 -pix_fmt yuv420p {output_name} -y\n",
    "\"\"\"\n",
    ")"
   ]
  },
  {
   "cell_type": "markdown",
   "metadata": {},
   "source": [
    "### extract audio"
   ]
  },
  {
   "cell_type": "code",
   "execution_count": null,
   "metadata": {},
   "outputs": [],
   "source": [
    "import os\n",
    "from IPython.display import Video\n",
    "\n",
    "# -loglevel error\n",
    "output_name = \"diffusers_experiments/nfs_24fps_out.mp3\"\n",
    "video_folder = \"diffusers_experiments/nfs.mp4\"\n",
    "os.system(\n",
    "    f\"\"\"\n",
    "ffmpeg/ffmpeg -i {video_folder} -q:a 0 -map a {output_name} -y\n",
    "\"\"\"\n",
    ")\n"
   ]
  },
  {
   "cell_type": "markdown",
   "metadata": {},
   "source": [
    "#### combine video and audio"
   ]
  },
  {
   "cell_type": "code",
   "execution_count": 5,
   "metadata": {},
   "outputs": [
    {
     "name": "stderr",
     "output_type": "stream",
     "text": [
      "ffmpeg version N-71064-gd5e603ddc0-static https://johnvansickle.com/ffmpeg/  Copyright (c) 2000-2024 the FFmpeg developers\n",
      "  built with gcc 8 (Debian 8.3.0-6)\n",
      "  configuration: --enable-gpl --enable-version3 --enable-static --disable-debug --disable-ffplay --disable-indev=sndio --disable-outdev=sndio --cc=gcc --enable-fontconfig --enable-frei0r --enable-gnutls --enable-gmp --enable-libgme --enable-gray --enable-libaom --enable-libfribidi --enable-libass --enable-libvmaf --enable-libfreetype --enable-libmp3lame --enable-libopencore-amrnb --enable-libopencore-amrwb --enable-libopenjpeg --enable-librubberband --enable-libsoxr --enable-libspeex --enable-libsrt --enable-libvorbis --enable-libopus --enable-libtheora --enable-libvidstab --enable-libvo-amrwbenc --enable-libvpx --enable-libwebp --enable-libx264 --enable-libx265 --enable-libxml2 --enable-libdav1d --enable-libxvid --enable-libzvbi --enable-libzimg\n",
      "  libavutil      59. 27.100 / 59. 27.100\n",
      "  libavcodec     61.  9.100 / 61.  9.100\n",
      "  libavformat    61.  4.100 / 61.  4.100\n",
      "  libavdevice    61.  2.100 / 61.  2.100\n",
      "  libavfilter    10.  2.102 / 10.  2.102\n",
      "  libswscale      8.  2.100 /  8.  2.100\n",
      "  libswresample   5.  2.100 /  5.  2.100\n",
      "  libpostproc    58.  2.100 / 58.  2.100\n",
      "Input #0, mov,mp4,m4a,3gp,3g2,mj2, from 'diffusers_experiments/nfs_24fps_out.mp4':\n",
      "  Metadata:\n",
      "    major_brand     : isom\n",
      "    minor_version   : 512\n",
      "    compatible_brands: isomiso2avc1mp41\n",
      "    encoder         : Lavf61.4.100\n",
      "  Duration: 00:02:34.04, start: 0.000000, bitrate: 17912 kb/s\n",
      "  Stream #0:0[0x1](und): Video: h264 (High) (avc1 / 0x31637661), yuv420p(progressive), 1920x1080, 17910 kb/s, 24 fps, 24 tbr, 12288 tbn (default)\n",
      "      Metadata:\n",
      "        handler_name    : VideoHandler\n",
      "        vendor_id       : [0][0][0][0]\n",
      "        encoder         : Lavc61.9.100 libx264\n",
      "Input #1, mp3, from 'diffusers_experiments/nfs_24fps_out.mp3':\n",
      "  Metadata:\n",
      "    major_brand     : isom\n",
      "    minor_version   : 512\n",
      "    compatible_brands: isomiso2avc1mp41\n",
      "    encoder         : Lavf61.4.100\n",
      "  Duration: 00:03:36.77, start: 0.023021, bitrate: 241 kb/s\n",
      "  Stream #1:0: Audio: mp3 (mp3float), 48000 Hz, stereo, fltp, 241 kb/s\n",
      "      Metadata:\n",
      "        encoder         : Lavc61.9.\n",
      "Stream mapping:\n",
      "  Stream #0:0 -> #0:0 (copy)\n",
      "  Stream #1:0 -> #0:1 (copy)\n",
      "Output #0, mp4, to 'diffusers_experiments/nfs_24fps_out_audio.mp4':\n",
      "  Metadata:\n",
      "    major_brand     : isom\n",
      "    minor_version   : 512\n",
      "    compatible_brands: isomiso2avc1mp41\n",
      "    encoder         : Lavf61.4.100\n",
      "  Stream #0:0(und): Video: h264 (High) (avc1 / 0x31637661), yuv420p(progressive), 1920x1080, q=2-31, 17910 kb/s, 24 fps, 24 tbr, 12288 tbn (default)\n",
      "      Metadata:\n",
      "        handler_name    : VideoHandler\n",
      "        vendor_id       : [0][0][0][0]\n",
      "        encoder         : Lavc61.9.100 libx264\n",
      "  Stream #0:1: Audio: mp3 (mp4a / 0x6134706D), 48000 Hz, stereo, fltp, 241 kb/s\n",
      "      Metadata:\n",
      "        encoder         : Lavc61.9.\n",
      "Press [q] to stop, [?] for help\n",
      "[out#0/mp4 @ 0x72c1a40] video:336781KiB audio:6391KiB subtitle:0KiB other streams:0KiB global headers:0KiB muxing overhead: 0.037868%\n",
      "size=  343303KiB time=00:02:33.95 bitrate=18266.9kbits/s speed=1.06e+03x    \n"
     ]
    },
    {
     "data": {
      "text/plain": [
       "0"
      ]
     },
     "execution_count": 5,
     "metadata": {},
     "output_type": "execute_result"
    }
   ],
   "source": [
    "import os\n",
    "from IPython.display import Video\n",
    "\n",
    "# -loglevel error\n",
    "output_name = \"diffusers_experiments/nfs_24fps_out_audio.mp4\"\n",
    "video_file = \"diffusers_experiments/nfs_24fps_out.mp4\"\n",
    "audio_file = \"diffusers_experiments/nfs_24fps_out.mp3\"\n",
    "os.system(\n",
    "    f\"\"\"\n",
    "ffmpeg/ffmpeg -i {video_file} -i {audio_file} -c copy -map 0:v:0 -map 1:a:0 {output_name}\n",
    "\"\"\"\n",
    ")\n"
   ]
  },
  {
   "cell_type": "markdown",
   "metadata": {},
   "source": [
    "### merge videos"
   ]
  },
  {
   "cell_type": "code",
   "execution_count": 2,
   "metadata": {},
   "outputs": [
    {
     "name": "stderr",
     "output_type": "stream",
     "text": [
      "ffmpeg version N-71064-gd5e603ddc0-static https://johnvansickle.com/ffmpeg/  Copyright (c) 2000-2024 the FFmpeg developers\n",
      "  built with gcc 8 (Debian 8.3.0-6)\n",
      "  configuration: --enable-gpl --enable-version3 --enable-static --disable-debug --disable-ffplay --disable-indev=sndio --disable-outdev=sndio --cc=gcc --enable-fontconfig --enable-frei0r --enable-gnutls --enable-gmp --enable-libgme --enable-gray --enable-libaom --enable-libfribidi --enable-libass --enable-libvmaf --enable-libfreetype --enable-libmp3lame --enable-libopencore-amrnb --enable-libopencore-amrwb --enable-libopenjpeg --enable-librubberband --enable-libsoxr --enable-libspeex --enable-libsrt --enable-libvorbis --enable-libopus --enable-libtheora --enable-libvidstab --enable-libvo-amrwbenc --enable-libvpx --enable-libwebp --enable-libx264 --enable-libx265 --enable-libxml2 --enable-libdav1d --enable-libxvid --enable-libzvbi --enable-libzimg\n",
      "  libavutil      59. 27.100 / 59. 27.100\n",
      "  libavcodec     61.  9.100 / 61.  9.100\n",
      "  libavformat    61.  4.100 / 61.  4.100\n",
      "  libavdevice    61.  2.100 / 61.  2.100\n",
      "  libavfilter    10.  2.102 / 10.  2.102\n",
      "  libswscale      8.  2.100 /  8.  2.100\n",
      "  libswresample   5.  2.100 /  5.  2.100\n",
      "  libpostproc    58.  2.100 / 58.  2.100\n",
      "Input #0, mov,mp4,m4a,3gp,3g2,mj2, from 'diffusers_experiments/nfs_24fps.mp4':\n",
      "  Metadata:\n",
      "    major_brand     : isom\n",
      "    minor_version   : 512\n",
      "    compatible_brands: isomiso2avc1mp41\n",
      "    encoder         : Lavf61.4.100\n",
      "  Duration: 00:03:36.33, start: 0.000000, bitrate: 10056 kb/s\n",
      "  Stream #0:0[0x1](und): Video: h264 (High) (avc1 / 0x31637661), yuv420p(tv, unknown/bt709/bt709, progressive), 1920x1080, 10053 kb/s, 24 fps, 24 tbr, 12288 tbn (default)\n",
      "      Metadata:\n",
      "        handler_name    : VideoHandler\n",
      "        vendor_id       : [0][0][0][0]\n",
      "        encoder         : Lavc61.9.100 libx264\n",
      "Input #1, mov,mp4,m4a,3gp,3g2,mj2, from 'diffusers_experiments/nfs_24fps_out_audio.mp4':\n",
      "  Metadata:\n",
      "    major_brand     : isom\n",
      "    minor_version   : 512\n",
      "    compatible_brands: isomiso2avc1mp41\n",
      "    encoder         : Lavf61.4.100\n",
      "  Duration: 00:03:36.74, start: 0.000000, bitrate: 12975 kb/s\n",
      "  Stream #1:0[0x1](und): Video: h264 (High) (avc1 / 0x31637661), yuv420p(progressive), 1920x1080, 17910 kb/s, 24 fps, 24 tbr, 12288 tbn (default)\n",
      "      Metadata:\n",
      "        handler_name    : VideoHandler\n",
      "        vendor_id       : [0][0][0][0]\n",
      "        encoder         : Lavc61.9.100 libx264\n",
      "  Stream #1:1[0x2](und): Audio: mp3 (mp3float) (mp4a / 0x6134706D), 48000 Hz, stereo, fltp, 241 kb/s (default)\n",
      "      Metadata:\n",
      "        handler_name    : SoundHandler\n",
      "        vendor_id       : [0][0][0][0]\n",
      "Stream mapping:\n",
      "  Stream #0:0 (h264) -> pad:default\n",
      "  Stream #1:0 (h264) -> overlay\n",
      "  overlay:default -> Stream #0:0 (libx264)\n",
      "Press [q] to stop, [?] for help\n",
      "[libx264 @ 0x71c6940] using cpu capabilities: MMX2 SSE2Fast SSSE3 SSE4.2 AVX FMA3 BMI2 AVX2 AVX512\n",
      "[libx264 @ 0x71c6940] profile High, level 5.0, 4:2:0, 8-bit\n",
      "[libx264 @ 0x71c6940] 264 - core 164 r3191 4613ac3 - H.264/MPEG-4 AVC codec - Copyleft 2003-2024 - http://www.videolan.org/x264.html - options: cabac=1 ref=3 deblock=1:0:0 analyse=0x3:0x113 me=hex subme=7 psy=1 psy_rd=1.00:0.00 mixed_ref=1 me_range=16 chroma_me=1 trellis=1 8x8dct=1 cqm=0 deadzone=21,11 fast_pskip=1 chroma_qp_offset=-2 threads=18 lookahead_threads=3 sliced_threads=0 nr=0 decimate=1 interlaced=0 bluray_compat=0 constrained_intra=0 bframes=3 b_pyramid=2 b_adapt=1 b_bias=0 direct=1 weightb=1 open_gop=0 weightp=2 keyint=250 keyint_min=24 scenecut=40 intra_refresh=0 rc_lookahead=40 rc=crf mbtree=1 crf=23.0 qcomp=0.60 qpmin=0 qpmax=69 qpstep=4 ip_ratio=1.40 aq=1:1.00\n",
      "Output #0, mp4, to 'diffusers_experiments/nfs_24fps_side_by_side.mp4':\n",
      "  Metadata:\n",
      "    major_brand     : isom\n",
      "    minor_version   : 512\n",
      "    compatible_brands: isomiso2avc1mp41\n",
      "    encoder         : Lavf61.4.100\n",
      "  Stream #0:0: Video: h264 (avc1 / 0x31637661), yuv420p(tv, unknown/bt709/bt709, progressive), 3840x1080, q=2-31, 24 fps, 12288 tbn\n",
      "      Metadata:\n",
      "        encoder         : Lavc61.9.100 libx264\n",
      "      Side data:\n",
      "        cpb: bitrate max/min/avg: 0/0/0 buffer size: 0 vbv_delay: N/A\n",
      "[out#0/mp4 @ 0x71a2000] video:553516KiB audio:0KiB subtitle:0KiB other streams:0KiB global headers:0KiB muxing overhead: 0.012047%\n",
      "frame= 5192 fps= 27 q=-1.0 Lsize=  553583KiB time=00:03:36.25 bitrate=20970.9kbits/s speed=1.14x    \n",
      "[libx264 @ 0x71c6940] frame I:32    Avg QP:21.75  size:313842\n",
      "[libx264 @ 0x71c6940] frame P:1506  Avg QP:24.57  size:129486\n",
      "[libx264 @ 0x71c6940] frame B:3654  Avg QP:25.87  size: 99001\n",
      "[libx264 @ 0x71c6940] consecutive B-frames:  3.4%  6.5%  5.8% 84.4%\n",
      "[libx264 @ 0x71c6940] mb I  I16..4: 12.6% 66.1% 21.3%\n",
      "[libx264 @ 0x71c6940] mb P  I16..4: 10.1% 38.5%  8.0%  P16..4: 16.0%  6.1%  2.2%  0.0%  0.0%    skip:19.1%\n",
      "[libx264 @ 0x71c6940] mb B  I16..4:  5.5% 18.1%  3.8%  B16..8: 25.9%  9.7%  2.0%  direct: 6.0%  skip:29.0%  L0:47.6% L1:43.1% BI: 9.3%\n",
      "[libx264 @ 0x71c6940] 8x8 transform intra:67.0% inter:73.7%\n",
      "[libx264 @ 0x71c6940] coded y,uvDC,uvAC intra: 54.6% 51.0% 8.9% inter: 26.8% 29.4% 0.8%\n",
      "[libx264 @ 0x71c6940] i16 v,h,dc,p: 14% 35%  7% 43%\n",
      "[libx264 @ 0x71c6940] i8 v,h,dc,ddl,ddr,vr,hd,vl,hu: 17% 29% 15%  5%  6%  5% 10%  4%  9%\n",
      "[libx264 @ 0x71c6940] i4 v,h,dc,ddl,ddr,vr,hd,vl,hu: 17% 27% 15%  6%  8%  6%  9%  5%  7%\n",
      "[libx264 @ 0x71c6940] i8c dc,h,v,p: 53% 27% 14%  5%\n",
      "[libx264 @ 0x71c6940] Weighted P-Frames: Y:0.3% UV:0.3%\n",
      "[libx264 @ 0x71c6940] ref P L0: 50.5% 15.2% 22.0% 12.2%  0.0%\n",
      "[libx264 @ 0x71c6940] ref B L0: 82.6% 13.3%  4.1%\n",
      "[libx264 @ 0x71c6940] ref B L1: 94.0%  6.0%\n",
      "[libx264 @ 0x71c6940] kb/s:20960.23\n"
     ]
    },
    {
     "data": {
      "text/plain": [
       "0"
      ]
     },
     "execution_count": 2,
     "metadata": {},
     "output_type": "execute_result"
    }
   ],
   "source": [
    "# ffmpeg -i left.mp4 -i right.mp4 -filter_complex hstack output.mp4\n",
    "\n",
    "import os\n",
    "from IPython.display import Video\n",
    "\n",
    "# -loglevel error\n",
    "output_name = \"diffusers_experiments/nfs_24fps_side_by_side.mp4\"\n",
    "video_file_1 = \"diffusers_experiments/nfs_24fps.mp4\"\n",
    "video_file_2 = \"diffusers_experiments/nfs_24fps_out_audio.mp4\"\n",
    "# ffmpeg/ffmpeg -i {video_file_1} -i {video_file_2} \\\n",
    "#  -filter_complex \\\n",
    "#     \"[0:v]pad=iw*2:ih[int]; \\\n",
    "#      [int][1:v]overlay=W/2:0[vid]\" \\\n",
    "# -map \"[vid]\" \\\n",
    "# -c:v libx264 -crf 23 \\\n",
    "# {output_name} -y\n",
    "os.system(\n",
    "    f\"\"\"\n",
    "ffmpeg/ffmpeg -i {video_file_1} -i {video_file_2} -filter_complex hstack {output_name} -y\n",
    "\"\"\"\n",
    ")\n"
   ]
  }
 ],
 "metadata": {
  "kernelspec": {
   "display_name": "base",
   "language": "python",
   "name": "python3"
  },
  "language_info": {
   "codemirror_mode": {
    "name": "ipython",
    "version": 3
   },
   "file_extension": ".py",
   "mimetype": "text/x-python",
   "name": "python",
   "nbconvert_exporter": "python",
   "pygments_lexer": "ipython3",
   "version": "3.10.15"
  }
 },
 "nbformat": 4,
 "nbformat_minor": 2
}
