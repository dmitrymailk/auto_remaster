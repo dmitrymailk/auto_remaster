{
 "cells": [
  {
   "cell_type": "code",
   "execution_count": 5,
   "metadata": {},
   "outputs": [
    {
     "name": "stderr",
     "output_type": "stream",
     "text": [
      "ffmpeg version N-71064-gd5e603ddc0-static https://johnvansickle.com/ffmpeg/  Copyright (c) 2000-2024 the FFmpeg developers\n",
      "  built with gcc 8 (Debian 8.3.0-6)\n",
      "  configuration: --enable-gpl --enable-version3 --enable-static --disable-debug --disable-ffplay --disable-indev=sndio --disable-outdev=sndio --cc=gcc --enable-fontconfig --enable-frei0r --enable-gnutls --enable-gmp --enable-libgme --enable-gray --enable-libaom --enable-libfribidi --enable-libass --enable-libvmaf --enable-libfreetype --enable-libmp3lame --enable-libopencore-amrnb --enable-libopencore-amrwb --enable-libopenjpeg --enable-librubberband --enable-libsoxr --enable-libspeex --enable-libsrt --enable-libvorbis --enable-libopus --enable-libtheora --enable-libvidstab --enable-libvo-amrwbenc --enable-libvpx --enable-libwebp --enable-libx264 --enable-libx265 --enable-libxml2 --enable-libdav1d --enable-libxvid --enable-libzvbi --enable-libzimg\n",
      "  libavutil      59. 27.100 / 59. 27.100\n",
      "  libavcodec     61.  9.100 / 61.  9.100\n",
      "  libavformat    61.  4.100 / 61.  4.100\n",
      "  libavdevice    61.  2.100 / 61.  2.100\n",
      "  libavfilter    10.  2.102 / 10.  2.102\n",
      "  libswscale      8.  2.100 /  8.  2.100\n",
      "  libswresample   5.  2.100 /  5.  2.100\n",
      "  libpostproc    58.  2.100 / 58.  2.100\n",
      "-vsync is deprecated. Use -fps_mode\n",
      "Passing a number to -vsync is deprecated, use a string argument as described in the manual.\n",
      "Input #0, mov,mp4,m4a,3gp,3g2,mj2, from 'comfyui_sandbox/video_renders/mp4/nfs_noblur_high_graph_2.mp4':\n",
      "  Metadata:\n",
      "    major_brand     : isom\n",
      "    minor_version   : 512\n",
      "    compatible_brands: isomiso2avc1mp41\n",
      "    encoder         : Lavf61.1.100\n",
      "  Duration: 00:01:35.81, start: 0.000000, bitrate: 17192 kb/s\n",
      "  Stream #0:0[0x1](und): Video: h264 (High) (avc1 / 0x31637661), yuv420p(tv, bt709, progressive), 1920x1080, 17047 kb/s, 120 fps, 120 tbr, 15360 tbn (default)\n",
      "      Metadata:\n",
      "        handler_name    : VideoHandler\n",
      "        vendor_id       : [0][0][0][0]\n",
      "  Stream #0:1[0x2](und): Audio: aac (LC) (mp4a / 0x6134706D), 48000 Hz, stereo, fltp, 161 kb/s (default)\n",
      "      Metadata:\n",
      "        handler_name    : SoundHandler\n",
      "        vendor_id       : [0][0][0][0]\n",
      "Stream mapping:\n",
      "  Stream #0:0 -> #0:0 (h264 (native) -> png (native))\n",
      "Press [q] to stop, [?] for help\n",
      "Output #0, image2, to 'comfyui_sandbox/video_renders/render_nfs_noblur_high_graph_2/%04d.png':\n",
      "  Metadata:\n",
      "    major_brand     : isom\n",
      "    minor_version   : 512\n",
      "    compatible_brands: isomiso2avc1mp41\n",
      "    encoder         : Lavf61.4.100\n",
      "  Stream #0:0(und): Video: png, rgb24(pc, gbr/bt709/bt709, progressive), 1920x1080, q=2-31, 200 kb/s, 24 fps, 24 tbn (default)\n",
      "      Metadata:\n",
      "        handler_name    : VideoHandler\n",
      "        vendor_id       : [0][0][0][0]\n",
      "        encoder         : Lavc61.9.100 png\n",
      "[out#0/image2 @ 0x6e00f40] video:4451505KiB audio:0KiB subtitle:0KiB other streams:0KiB global headers:0KiB muxing overhead: unknown\n",
      "frame= 2295 fps= 63 q=-0.0 Lsize=N/A time=00:01:35.62 bitrate=N/A speed=2.65x    \n"
     ]
    },
    {
     "data": {
      "text/plain": [
       "0"
      ]
     },
     "execution_count": 5,
     "metadata": {},
     "output_type": "execute_result"
    }
   ],
   "source": [
    "import os\n",
    "\n",
    "video_path = \"comfyui_sandbox/video_renders/mp4/nfs_noblur_high_graph_2.mp4\"\n",
    "video_folder = \"comfyui_sandbox/video_renders/render_nfs_noblur_high_graph_2\"\n",
    "\n",
    "\n",
    "os.system(\n",
    "    f\"\"\"\n",
    "mkdir -p {video_folder} &&\n",
    "\n",
    "ffmpeg/ffmpeg -i {video_path} -vf fps=24 -vsync 0 {video_folder}/%04d.png          \n",
    "\n",
    "\"\"\"\n",
    ")"
   ]
  },
  {
   "cell_type": "code",
   "execution_count": 3,
   "metadata": {},
   "outputs": [
    {
     "name": "stderr",
     "output_type": "stream",
     "text": [
      "ffmpeg version N-71064-gd5e603ddc0-static https://johnvansickle.com/ffmpeg/  Copyright (c) 2000-2024 the FFmpeg developers\n",
      "  built with gcc 8 (Debian 8.3.0-6)\n",
      "  configuration: --enable-gpl --enable-version3 --enable-static --disable-debug --disable-ffplay --disable-indev=sndio --disable-outdev=sndio --cc=gcc --enable-fontconfig --enable-frei0r --enable-gnutls --enable-gmp --enable-libgme --enable-gray --enable-libaom --enable-libfribidi --enable-libass --enable-libvmaf --enable-libfreetype --enable-libmp3lame --enable-libopencore-amrnb --enable-libopencore-amrwb --enable-libopenjpeg --enable-librubberband --enable-libsoxr --enable-libspeex --enable-libsrt --enable-libvorbis --enable-libopus --enable-libtheora --enable-libvidstab --enable-libvo-amrwbenc --enable-libvpx --enable-libwebp --enable-libx264 --enable-libx265 --enable-libxml2 --enable-libdav1d --enable-libxvid --enable-libzvbi --enable-libzimg\n",
      "  libavutil      59. 27.100 / 59. 27.100\n",
      "  libavcodec     61.  9.100 / 61.  9.100\n",
      "  libavformat    61.  4.100 / 61.  4.100\n",
      "  libavdevice    61.  2.100 / 61.  2.100\n",
      "  libavfilter    10.  2.102 / 10.  2.102\n",
      "  libswscale      8.  2.100 /  8.  2.100\n",
      "  libswresample   5.  2.100 /  5.  2.100\n",
      "  libpostproc    58.  2.100 / 58.  2.100\n",
      "Input #0, image2, from 'comfyui_sandbox/video_renders/render_nfs_noblur_high_graph_2_ip_control_lora_1/*.png':\n",
      "  Duration: 00:01:19.29, start: 0.000000, bitrate: N/A\n",
      "  Stream #0:0: Video: png, rgb24(pc, gbr/unknown/unknown), 1920x1080, 24 fps, 24 tbr, 24 tbn\n",
      "Stream mapping:\n",
      "  Stream #0:0 -> #0:0 (png (native) -> h264 (libx264))\n",
      "Press [q] to stop, [?] for help\n",
      "[libx264 @ 0x6dcd600] using cpu capabilities: MMX2 SSE2Fast SSSE3 SSE4.2 AVX FMA3 BMI2 AVX2 AVX512\n",
      "[libx264 @ 0x6dcd600] profile High 4:4:4 Predictive, level 4.0, 4:4:4, 8-bit\n",
      "[libx264 @ 0x6dcd600] 264 - core 164 r3191 4613ac3 - H.264/MPEG-4 AVC codec - Copyleft 2003-2024 - http://www.videolan.org/x264.html - options: cabac=1 ref=3 deblock=1:0:0 analyse=0x3:0x113 me=hex subme=7 psy=1 psy_rd=1.00:0.00 mixed_ref=1 me_range=16 chroma_me=1 trellis=1 8x8dct=1 cqm=0 deadzone=21,11 fast_pskip=1 chroma_qp_offset=4 threads=18 lookahead_threads=3 sliced_threads=0 nr=0 decimate=1 interlaced=0 bluray_compat=0 constrained_intra=0 bframes=3 b_pyramid=2 b_adapt=1 b_bias=0 direct=1 weightb=1 open_gop=0 weightp=2 keyint=250 keyint_min=24 scenecut=40 intra_refresh=0 rc_lookahead=40 rc=crf mbtree=1 crf=23.0 qcomp=0.60 qpmin=0 qpmax=69 qpstep=4 ip_ratio=1.40 aq=1:1.00\n",
      "Output #0, mp4, to '/code/comfyui_sandbox/video_renders/mp4/render_nfs_noblur_high_graph_2_ip_control_lora_1_24.mp4':\n",
      "  Metadata:\n",
      "    encoder         : Lavf61.4.100\n",
      "  Stream #0:0: Video: h264 (avc1 / 0x31637661), yuv444p(progressive), 1920x1080, q=2-31, 24 fps, 12288 tbn\n",
      "      Metadata:\n",
      "        encoder         : Lavc61.9.100 libx264\n",
      "      Side data:\n",
      "        cpb: bitrate max/min/avg: 0/0/0 buffer size: 0 vbv_delay: N/A\n",
      "[out#0/mp4 @ 0x6dcc840] video:194681KiB audio:0KiB subtitle:0KiB other streams:0KiB global headers:0KiB muxing overhead: 0.009426%\n",
      "frame= 1903 fps= 28 q=-1.0 Lsize=  194699KiB time=00:01:19.20 bitrate=20136.5kbits/s speed=1.17x    \n",
      "[libx264 @ 0x6dcd600] frame I:28    Avg QP:24.91  size:153276\n",
      "[libx264 @ 0x6dcd600] frame P:1137  Avg QP:27.82  size:110786\n",
      "[libx264 @ 0x6dcd600] frame B:738   Avg QP:28.18  size: 93628\n",
      "[libx264 @ 0x6dcd600] consecutive B-frames: 47.7%  1.1%  2.5% 48.8%\n",
      "[libx264 @ 0x6dcd600] mb I  I16..4:  3.0% 81.7% 15.3%\n",
      "[libx264 @ 0x6dcd600] mb P  I16..4:  2.0% 52.4%  8.9%  P16..4: 16.8% 11.6%  4.8%  0.0%  0.0%    skip: 3.5%\n",
      "[libx264 @ 0x6dcd600] mb B  I16..4:  1.6% 27.5%  7.2%  B16..8: 21.2% 16.3%  5.1%  direct:11.2%  skip:10.0%  L0:47.5% L1:37.9% BI:14.6%\n",
      "[libx264 @ 0x6dcd600] 8x8 transform intra:81.0% inter:79.0%\n",
      "[libx264 @ 0x6dcd600] coded y,u,v intra: 86.5% 32.4% 20.6% inter: 60.8% 22.0% 16.8%\n",
      "[libx264 @ 0x6dcd600] i16 v,h,dc,p: 34% 42%  7% 17%\n",
      "[libx264 @ 0x6dcd600] i8 v,h,dc,ddl,ddr,vr,hd,vl,hu: 17% 22% 12%  5%  8%  8% 10%  7% 10%\n",
      "[libx264 @ 0x6dcd600] i4 v,h,dc,ddl,ddr,vr,hd,vl,hu: 19% 23% 11%  6% 10%  8% 10%  6%  7%\n",
      "[libx264 @ 0x6dcd600] Weighted P-Frames: Y:11.6% UV:9.5%\n",
      "[libx264 @ 0x6dcd600] ref P L0: 35.7% 16.1% 26.6% 19.3%  2.3%\n",
      "[libx264 @ 0x6dcd600] ref B L0: 70.4% 22.5%  7.1%\n",
      "[libx264 @ 0x6dcd600] ref B L1: 86.5% 13.5%\n",
      "[libx264 @ 0x6dcd600] kb/s:20113.34\n"
     ]
    },
    {
     "data": {
      "text/plain": [
       "0"
      ]
     },
     "execution_count": 3,
     "metadata": {},
     "output_type": "execute_result"
    }
   ],
   "source": [
    "import os\n",
    "from IPython.display import Video\n",
    "\n",
    "# -loglevel error\n",
    "output_name = \"/code/comfyui_sandbox/video_renders/mp4/render_nfs_noblur_high_graph_2_ip_control_lora_1_24.mp4\"\n",
    "video_folder = \"comfyui_sandbox/video_renders/render_nfs_noblur_high_graph_2_ip_control_lora_1\"\n",
    "os.system(\n",
    "    f\"\"\"\n",
    "ffmpeg/ffmpeg -framerate 24  -pattern_type glob -i '{video_folder}/*.png' {output_name} -y\n",
    "\"\"\"\n",
    "# ffmpeg/ffmpeg -framerate 24  -pattern_type glob -i '{video_folder}/*.png' -c:v libx264 -pix_fmt yuv420p {output_name} -y\n",
    ")"
   ]
  },
  {
   "cell_type": "markdown",
   "metadata": {},
   "source": [
    "### extract audio"
   ]
  },
  {
   "cell_type": "code",
   "execution_count": null,
   "metadata": {},
   "outputs": [],
   "source": [
    "import os\n",
    "from IPython.display import Video\n",
    "\n",
    "# -loglevel error\n",
    "output_name = \"diffusers_experiments/nfs_24fps_out.mp3\"\n",
    "video_folder = \"diffusers_experiments/nfs.mp4\"\n",
    "os.system(\n",
    "    f\"\"\"\n",
    "ffmpeg/ffmpeg -i {video_folder} -q:a 0 -map a {output_name} -y\n",
    "\"\"\"\n",
    ")\n"
   ]
  },
  {
   "cell_type": "markdown",
   "metadata": {},
   "source": [
    "#### combine video and audio"
   ]
  },
  {
   "cell_type": "code",
   "execution_count": 5,
   "metadata": {},
   "outputs": [
    {
     "name": "stderr",
     "output_type": "stream",
     "text": [
      "ffmpeg version N-71064-gd5e603ddc0-static https://johnvansickle.com/ffmpeg/  Copyright (c) 2000-2024 the FFmpeg developers\n",
      "  built with gcc 8 (Debian 8.3.0-6)\n",
      "  configuration: --enable-gpl --enable-version3 --enable-static --disable-debug --disable-ffplay --disable-indev=sndio --disable-outdev=sndio --cc=gcc --enable-fontconfig --enable-frei0r --enable-gnutls --enable-gmp --enable-libgme --enable-gray --enable-libaom --enable-libfribidi --enable-libass --enable-libvmaf --enable-libfreetype --enable-libmp3lame --enable-libopencore-amrnb --enable-libopencore-amrwb --enable-libopenjpeg --enable-librubberband --enable-libsoxr --enable-libspeex --enable-libsrt --enable-libvorbis --enable-libopus --enable-libtheora --enable-libvidstab --enable-libvo-amrwbenc --enable-libvpx --enable-libwebp --enable-libx264 --enable-libx265 --enable-libxml2 --enable-libdav1d --enable-libxvid --enable-libzvbi --enable-libzimg\n",
      "  libavutil      59. 27.100 / 59. 27.100\n",
      "  libavcodec     61.  9.100 / 61.  9.100\n",
      "  libavformat    61.  4.100 / 61.  4.100\n",
      "  libavdevice    61.  2.100 / 61.  2.100\n",
      "  libavfilter    10.  2.102 / 10.  2.102\n",
      "  libswscale      8.  2.100 /  8.  2.100\n",
      "  libswresample   5.  2.100 /  5.  2.100\n",
      "  libpostproc    58.  2.100 / 58.  2.100\n",
      "Input #0, mov,mp4,m4a,3gp,3g2,mj2, from 'diffusers_experiments/nfs_24fps_out.mp4':\n",
      "  Metadata:\n",
      "    major_brand     : isom\n",
      "    minor_version   : 512\n",
      "    compatible_brands: isomiso2avc1mp41\n",
      "    encoder         : Lavf61.4.100\n",
      "  Duration: 00:02:34.04, start: 0.000000, bitrate: 17912 kb/s\n",
      "  Stream #0:0[0x1](und): Video: h264 (High) (avc1 / 0x31637661), yuv420p(progressive), 1920x1080, 17910 kb/s, 24 fps, 24 tbr, 12288 tbn (default)\n",
      "      Metadata:\n",
      "        handler_name    : VideoHandler\n",
      "        vendor_id       : [0][0][0][0]\n",
      "        encoder         : Lavc61.9.100 libx264\n",
      "Input #1, mp3, from 'diffusers_experiments/nfs_24fps_out.mp3':\n",
      "  Metadata:\n",
      "    major_brand     : isom\n",
      "    minor_version   : 512\n",
      "    compatible_brands: isomiso2avc1mp41\n",
      "    encoder         : Lavf61.4.100\n",
      "  Duration: 00:03:36.77, start: 0.023021, bitrate: 241 kb/s\n",
      "  Stream #1:0: Audio: mp3 (mp3float), 48000 Hz, stereo, fltp, 241 kb/s\n",
      "      Metadata:\n",
      "        encoder         : Lavc61.9.\n",
      "Stream mapping:\n",
      "  Stream #0:0 -> #0:0 (copy)\n",
      "  Stream #1:0 -> #0:1 (copy)\n",
      "Output #0, mp4, to 'diffusers_experiments/nfs_24fps_out_audio.mp4':\n",
      "  Metadata:\n",
      "    major_brand     : isom\n",
      "    minor_version   : 512\n",
      "    compatible_brands: isomiso2avc1mp41\n",
      "    encoder         : Lavf61.4.100\n",
      "  Stream #0:0(und): Video: h264 (High) (avc1 / 0x31637661), yuv420p(progressive), 1920x1080, q=2-31, 17910 kb/s, 24 fps, 24 tbr, 12288 tbn (default)\n",
      "      Metadata:\n",
      "        handler_name    : VideoHandler\n",
      "        vendor_id       : [0][0][0][0]\n",
      "        encoder         : Lavc61.9.100 libx264\n",
      "  Stream #0:1: Audio: mp3 (mp4a / 0x6134706D), 48000 Hz, stereo, fltp, 241 kb/s\n",
      "      Metadata:\n",
      "        encoder         : Lavc61.9.\n",
      "Press [q] to stop, [?] for help\n",
      "[out#0/mp4 @ 0x72c1a40] video:336781KiB audio:6391KiB subtitle:0KiB other streams:0KiB global headers:0KiB muxing overhead: 0.037868%\n",
      "size=  343303KiB time=00:02:33.95 bitrate=18266.9kbits/s speed=1.06e+03x    \n"
     ]
    },
    {
     "data": {
      "text/plain": [
       "0"
      ]
     },
     "execution_count": 5,
     "metadata": {},
     "output_type": "execute_result"
    }
   ],
   "source": [
    "import os\n",
    "from IPython.display import Video\n",
    "\n",
    "# -loglevel error\n",
    "output_name = \"diffusers_experiments/nfs_24fps_out_audio.mp4\"\n",
    "video_file = \"diffusers_experiments/nfs_24fps_out.mp4\"\n",
    "audio_file = \"diffusers_experiments/nfs_24fps_out.mp3\"\n",
    "os.system(\n",
    "    f\"\"\"\n",
    "ffmpeg/ffmpeg -i {video_file} -i {audio_file} -c copy -map 0:v:0 -map 1:a:0 {output_name}\n",
    "\"\"\"\n",
    ")\n"
   ]
  },
  {
   "cell_type": "markdown",
   "metadata": {},
   "source": [
    "### merge videos"
   ]
  },
  {
   "cell_type": "code",
   "execution_count": 4,
   "metadata": {},
   "outputs": [
    {
     "name": "stderr",
     "output_type": "stream",
     "text": [
      "ffmpeg version N-71064-gd5e603ddc0-static https://johnvansickle.com/ffmpeg/  Copyright (c) 2000-2024 the FFmpeg developers\n",
      "  built with gcc 8 (Debian 8.3.0-6)\n",
      "  configuration: --enable-gpl --enable-version3 --enable-static --disable-debug --disable-ffplay --disable-indev=sndio --disable-outdev=sndio --cc=gcc --enable-fontconfig --enable-frei0r --enable-gnutls --enable-gmp --enable-libgme --enable-gray --enable-libaom --enable-libfribidi --enable-libass --enable-libvmaf --enable-libfreetype --enable-libmp3lame --enable-libopencore-amrnb --enable-libopencore-amrwb --enable-libopenjpeg --enable-librubberband --enable-libsoxr --enable-libspeex --enable-libsrt --enable-libvorbis --enable-libopus --enable-libtheora --enable-libvidstab --enable-libvo-amrwbenc --enable-libvpx --enable-libwebp --enable-libx264 --enable-libx265 --enable-libxml2 --enable-libdav1d --enable-libxvid --enable-libzvbi --enable-libzimg\n",
      "  libavutil      59. 27.100 / 59. 27.100\n",
      "  libavcodec     61.  9.100 / 61.  9.100\n",
      "  libavformat    61.  4.100 / 61.  4.100\n",
      "  libavdevice    61.  2.100 / 61.  2.100\n",
      "  libavfilter    10.  2.102 / 10.  2.102\n",
      "  libswscale      8.  2.100 /  8.  2.100\n",
      "  libswresample   5.  2.100 /  5.  2.100\n",
      "  libpostproc    58.  2.100 / 58.  2.100\n",
      "Input #0, mov,mp4,m4a,3gp,3g2,mj2, from 'comfyui_sandbox/video_renders/mp4/nfs_noblur_high_graph_2.mp4':\n",
      "  Metadata:\n",
      "    major_brand     : isom\n",
      "    minor_version   : 512\n",
      "    compatible_brands: isomiso2avc1mp41\n",
      "    encoder         : Lavf61.1.100\n",
      "  Duration: 00:01:35.81, start: 0.000000, bitrate: 17192 kb/s\n",
      "  Stream #0:0[0x1](und): Video: h264 (High) (avc1 / 0x31637661), yuv420p(tv, bt709, progressive), 1920x1080, 17047 kb/s, 120 fps, 120 tbr, 15360 tbn (default)\n",
      "      Metadata:\n",
      "        handler_name    : VideoHandler\n",
      "        vendor_id       : [0][0][0][0]\n",
      "  Stream #0:1[0x2](und): Audio: aac (LC) (mp4a / 0x6134706D), 48000 Hz, stereo, fltp, 161 kb/s (default)\n",
      "      Metadata:\n",
      "        handler_name    : SoundHandler\n",
      "        vendor_id       : [0][0][0][0]\n",
      "Input #1, mov,mp4,m4a,3gp,3g2,mj2, from 'comfyui_sandbox/video_renders/mp4/render_nfs_noblur_high_graph_2_ip_control_lora_1_24.mp4':\n",
      "  Metadata:\n",
      "    major_brand     : isom\n",
      "    minor_version   : 512\n",
      "    compatible_brands: isomiso2avc1mp41\n",
      "    encoder         : Lavf61.4.100\n",
      "  Duration: 00:01:19.29, start: 0.000000, bitrate: 20115 kb/s\n",
      "  Stream #1:0[0x1](und): Video: h264 (High 4:4:4 Predictive) (avc1 / 0x31637661), yuv444p(progressive), 1920x1080, 20113 kb/s, 24 fps, 24 tbr, 12288 tbn (default)\n",
      "      Metadata:\n",
      "        handler_name    : VideoHandler\n",
      "        vendor_id       : [0][0][0][0]\n",
      "        encoder         : Lavc61.9.100 libx264\n",
      "Stream mapping:\n",
      "  Stream #0:0 (h264) -> hstack\n",
      "  Stream #1:0 (h264) -> hstack\n",
      "  hstack:default -> Stream #0:0 (libx264)\n",
      "  Stream #0:1 -> #0:1 (aac (native) -> aac (native))\n",
      "Press [q] to stop, [?] for help\n",
      "[fc#0 @ 0x7628bc0] [vo0->#0:0 @ 0x762a700] No information about the input framerate is available. Falling back to a default value of 25fps. Use the -r option if you want a different framerate.\n",
      "[libx264 @ 0x776c800] using cpu capabilities: MMX2 SSE2Fast SSSE3 SSE4.2 AVX FMA3 BMI2 AVX2 AVX512\n",
      "[libx264 @ 0x776c800] profile High, level 5.0, 4:2:0, 8-bit\n",
      "[libx264 @ 0x776c800] 264 - core 164 r3191 4613ac3 - H.264/MPEG-4 AVC codec - Copyleft 2003-2024 - http://www.videolan.org/x264.html - options: cabac=1 ref=3 deblock=1:0:0 analyse=0x3:0x113 me=hex subme=7 psy=1 psy_rd=1.00:0.00 mixed_ref=1 me_range=16 chroma_me=1 trellis=1 8x8dct=1 cqm=0 deadzone=21,11 fast_pskip=1 chroma_qp_offset=-2 threads=18 lookahead_threads=3 sliced_threads=0 nr=0 decimate=1 interlaced=0 bluray_compat=0 constrained_intra=0 bframes=3 b_pyramid=2 b_adapt=1 b_bias=0 direct=1 weightb=1 open_gop=0 weightp=2 keyint=250 keyint_min=25 scenecut=40 intra_refresh=0 rc_lookahead=40 rc=crf mbtree=1 crf=23.0 qcomp=0.60 qpmin=0 qpmax=69 qpstep=4 ip_ratio=1.40 aq=1:1.00\n",
      "Output #0, mp4, to 'comfyui_sandbox/video_renders/mp4/showcase_1_side.mp4':\n",
      "  Metadata:\n",
      "    major_brand     : isom\n",
      "    minor_version   : 512\n",
      "    compatible_brands: isomiso2avc1mp41\n",
      "    encoder         : Lavf61.4.100\n",
      "  Stream #0:0: Video: h264 (avc1 / 0x31637661), yuv420p(tv, bt709/unknown/unknown, progressive), 3840x1080, q=2-31, 25 fps, 12800 tbn\n",
      "      Metadata:\n",
      "        encoder         : Lavc61.9.100 libx264\n",
      "      Side data:\n",
      "        cpb: bitrate max/min/avg: 0/0/0 buffer size: 0 vbv_delay: N/A\n",
      "  Stream #0:1(und): Audio: aac (LC) (mp4a / 0x6134706D), 48000 Hz, stereo, fltp, 128 kb/s (default)\n",
      "      Metadata:\n",
      "        handler_name    : SoundHandler\n",
      "        vendor_id       : [0][0][0][0]\n",
      "        encoder         : Lavc61.9.100 aac\n",
      "[out#0/mp4 @ 0x7673040] video:323135KiB audio:1512KiB subtitle:0KiB other streams:0KiB global headers:0KiB muxing overhead: 0.022216%\n",
      "frame= 2392 fps= 17 q=-1.0 Lsize=  324719KiB time=00:01:35.60 bitrate=27825.3kbits/s dup=0 drop=9085 speed=0.672x    \n",
      "[libx264 @ 0x776c800] frame I:37    Avg QP:23.40  size:241016\n",
      "[libx264 @ 0x776c800] frame P:666   Avg QP:25.87  size:149568\n",
      "[libx264 @ 0x776c800] frame B:1689  Avg QP:26.68  size:131652\n",
      "[libx264 @ 0x776c800] consecutive B-frames:  4.5%  2.7%  4.0% 88.8%\n",
      "[libx264 @ 0x776c800] mb I  I16..4:  8.2% 77.7% 14.1%\n",
      "[libx264 @ 0x776c800] mb P  I16..4:  7.4% 52.7%  7.6%  P16..4: 11.2%  5.4%  2.2%  0.0%  0.0%    skip:13.5%\n",
      "[libx264 @ 0x776c800] mb B  I16..4:  5.9% 28.6%  5.2%  B16..8: 18.5% 10.6%  2.7%  direct: 8.4%  skip:20.1%  L0:48.3% L1:40.3% BI:11.4%\n",
      "[libx264 @ 0x776c800] 8x8 transform intra:74.5% inter:78.9%\n",
      "[libx264 @ 0x776c800] coded y,uvDC,uvAC intra: 63.8% 50.9% 15.3% inter: 36.7% 43.6% 2.2%\n",
      "[libx264 @ 0x776c800] i16 v,h,dc,p: 25% 39% 11% 25%\n",
      "[libx264 @ 0x776c800] i8 v,h,dc,ddl,ddr,vr,hd,vl,hu: 20% 28% 15%  5%  6%  5%  8%  5%  8%\n",
      "[libx264 @ 0x776c800] i4 v,h,dc,ddl,ddr,vr,hd,vl,hu: 20% 28% 13%  5%  8%  6%  9%  5%  6%\n",
      "[libx264 @ 0x776c800] i8c dc,h,v,p: 62% 22% 12%  4%\n",
      "[libx264 @ 0x776c800] Weighted P-Frames: Y:1.2% UV:0.9%\n",
      "[libx264 @ 0x776c800] ref P L0: 39.8% 14.6% 27.4% 18.0%  0.2%\n",
      "[libx264 @ 0x776c800] ref B L0: 73.4% 20.3%  6.3%\n",
      "[libx264 @ 0x776c800] ref B L1: 88.5% 11.5%\n",
      "[libx264 @ 0x776c800] kb/s:27666.37\n",
      "[aac @ 0x76706c0] Qavg: 552.819\n"
     ]
    },
    {
     "data": {
      "text/plain": [
       "0"
      ]
     },
     "execution_count": 4,
     "metadata": {},
     "output_type": "execute_result"
    }
   ],
   "source": [
    "# ffmpeg -i left.mp4 -i right.mp4 -filter_complex hstack output.mp4\n",
    "\n",
    "import os\n",
    "from IPython.display import Video\n",
    "\n",
    "# -loglevel error\n",
    "output_name = \"comfyui_sandbox/video_renders/mp4/showcase_1_side.mp4\"\n",
    "video_file_1 = \"comfyui_sandbox/video_renders/mp4/nfs_noblur_high_graph_2.mp4\"\n",
    "video_file_2 = \"comfyui_sandbox/video_renders/mp4/render_nfs_noblur_high_graph_2_ip_control_lora_1_24.mp4\"\n",
    "# ffmpeg/ffmpeg -i {video_file_1} -i {video_file_2} \\\n",
    "#  -filter_complex \\\n",
    "#     \"[0:v]pad=iw*2:ih[int]; \\\n",
    "#      [int][1:v]overlay=W/2:0[vid]\" \\\n",
    "# -map \"[vid]\" \\\n",
    "# -c:v libx264 -crf 23 \\\n",
    "# {output_name} -y\n",
    "os.system(\n",
    "    f\"\"\"\n",
    "ffmpeg/ffmpeg -i {video_file_1} -i {video_file_2} -filter_complex hstack {output_name} -y\n",
    "\"\"\"\n",
    ")\n"
   ]
  },
  {
   "cell_type": "markdown",
   "metadata": {},
   "source": [
    "### Extract fragments"
   ]
  },
  {
   "cell_type": "code",
   "execution_count": 6,
   "metadata": {},
   "outputs": [
    {
     "name": "stderr",
     "output_type": "stream",
     "text": [
      "ffmpeg version 4.3 Copyright (c) 2000-2020 the FFmpeg developers\n",
      "  built with gcc 7.3.0 (crosstool-NG 1.23.0.449-a04d0)\n",
      "  configuration: --prefix=/opt/conda/conda-bld/ffmpeg_1597178665428/_h_env_placehold_placehold_placehold_placehold_placehold_placehold_placehold_placehold_placehold_placehold_placehold_placehold_placehold_placehold_placehold_placehold_placehold_placehold_placehold_placehold_placeh --cc=/opt/conda/conda-bld/ffmpeg_1597178665428/_build_env/bin/x86_64-conda_cos6-linux-gnu-cc --disable-doc --disable-openssl --enable-avresample --enable-gnutls --enable-hardcoded-tables --enable-libfreetype --enable-libopenh264 --enable-pic --enable-pthreads --enable-shared --disable-static --enable-version3 --enable-zlib --enable-libmp3lame\n",
      "  libavutil      56. 51.100 / 56. 51.100\n",
      "  libavcodec     58. 91.100 / 58. 91.100\n",
      "  libavformat    58. 45.100 / 58. 45.100\n",
      "  libavdevice    58. 10.100 / 58. 10.100\n",
      "  libavfilter     7. 85.100 /  7. 85.100\n",
      "  libavresample   4.  0.  0 /  4.  0.  0\n",
      "  libswscale      5.  7.100 /  5.  7.100\n",
      "  libswresample   3.  7.100 /  3.  7.100\n",
      "Input #0, mov,mp4,m4a,3gp,3g2,mj2, from 'comfyui_sandbox/video_renders/mp4/render_nfs_noblur_high_graph_2_ip_control_lora_1.mp4':\n",
      "  Metadata:\n",
      "    major_brand     : isom\n",
      "    minor_version   : 512\n",
      "    compatible_brands: isomiso2avc1mp41\n",
      "    encoder         : Lavf61.4.100\n",
      "  Duration: 00:01:35.15, start: 0.000000, bitrate: 17848 kb/s\n",
      "    Stream #0:0(und): Video: h264 (High 4:4:4 Predictive) (avc1 / 0x31637661), yuv444p, 1920x1080, 17847 kb/s, 20 fps, 20 tbr, 10240 tbn, 40 tbc (default)\n",
      "    Metadata:\n",
      "      handler_name    : VideoHandler\n",
      "      encoder         : Lavc61.9.100 libx264\n",
      "Stream mapping:\n",
      "  Stream #0:0 -> #0:0 (h264 (native) -> mpeg4 (native))\n",
      "Press [q] to stop, [?] for help\n",
      "Output #0, mp4, to 'comfyui_sandbox/video_renders/mp4/render_nfs_noblur_high_graph_2_ip_control_lora_1_5s.mp4':\n",
      "  Metadata:\n",
      "    major_brand     : isom\n",
      "    minor_version   : 512\n",
      "    compatible_brands: isomiso2avc1mp41\n",
      "    encoder         : Lavf58.45.100\n",
      "    Stream #0:0(und): Video: mpeg4 (mp4v / 0x7634706D), yuv420p, 1920x1080, q=2-31, 200 kb/s, 20 fps, 10240 tbn, 20 tbc (default)\n",
      "    Metadata:\n",
      "      handler_name    : VideoHandler\n",
      "      encoder         : Lavc58.91.100 mpeg4\n",
      "    Side data:\n",
      "      cpb: bitrate max/min/avg: 0/0/200000 buffer size: 0 vbv_delay: N/A\n",
      "frame=  100 fps= 65 q=31.0 Lsize=    3889kB time=00:00:04.95 bitrate=6436.0kbits/s speed=3.21x    \n",
      "video:3888kB audio:0kB subtitle:0kB other streams:0kB global headers:0kB muxing overhead: 0.033685%\n"
     ]
    },
    {
     "data": {
      "text/plain": [
       "0"
      ]
     },
     "execution_count": 6,
     "metadata": {},
     "output_type": "execute_result"
    }
   ],
   "source": [
    "import os\n",
    "from IPython.display import Video\n",
    "\n",
    "output_name = \"comfyui_sandbox/video_renders/mp4/render_nfs_noblur_high_graph_2_ip_control_lora_1_5s.mp4\"\n",
    "video_name = \"comfyui_sandbox/video_renders/mp4/render_nfs_noblur_high_graph_2_ip_control_lora_1.mp4\"\n",
    "os.system(\n",
    "    f\"\"\"\n",
    "ffmpeg -i {video_name} -ss 00:00:14.0 -t 5 -an -q:a 0 {output_name} -y\n",
    "\"\"\"\n",
    ")"
   ]
  }
 ],
 "metadata": {
  "kernelspec": {
   "display_name": "base",
   "language": "python",
   "name": "python3"
  },
  "language_info": {
   "codemirror_mode": {
    "name": "ipython",
    "version": 3
   },
   "file_extension": ".py",
   "mimetype": "text/x-python",
   "name": "python",
   "nbconvert_exporter": "python",
   "pygments_lexer": "ipython3",
   "version": "3.10.13"
  }
 },
 "nbformat": 4,
 "nbformat_minor": 2
}
