{
 "cells": [
  {
   "cell_type": "code",
   "execution_count": 1,
   "metadata": {},
   "outputs": [
    {
     "name": "stderr",
     "output_type": "stream",
     "text": [
      "ffmpeg version N-71064-gd5e603ddc0-static https://johnvansickle.com/ffmpeg/  Copyright (c) 2000-2024 the FFmpeg developers\n",
      "  built with gcc 8 (Debian 8.3.0-6)\n",
      "  configuration: --enable-gpl --enable-version3 --enable-static --disable-debug --disable-ffplay --disable-indev=sndio --disable-outdev=sndio --cc=gcc --enable-fontconfig --enable-frei0r --enable-gnutls --enable-gmp --enable-libgme --enable-gray --enable-libaom --enable-libfribidi --enable-libass --enable-libvmaf --enable-libfreetype --enable-libmp3lame --enable-libopencore-amrnb --enable-libopencore-amrwb --enable-libopenjpeg --enable-librubberband --enable-libsoxr --enable-libspeex --enable-libsrt --enable-libvorbis --enable-libopus --enable-libtheora --enable-libvidstab --enable-libvo-amrwbenc --enable-libvpx --enable-libwebp --enable-libx264 --enable-libx265 --enable-libxml2 --enable-libdav1d --enable-libxvid --enable-libzvbi --enable-libzimg\n",
      "  libavutil      59. 27.100 / 59. 27.100\n",
      "  libavcodec     61.  9.100 / 61.  9.100\n",
      "  libavformat    61.  4.100 / 61.  4.100\n",
      "  libavdevice    61.  2.100 / 61.  2.100\n",
      "  libavfilter    10.  2.102 / 10.  2.102\n",
      "  libswscale      8.  2.100 /  8.  2.100\n",
      "  libswresample   5.  2.100 /  5.  2.100\n",
      "  libpostproc    58.  2.100 / 58.  2.100\n",
      "-vsync is deprecated. Use -fps_mode\n",
      "Passing a number to -vsync is deprecated, use a string argument as described in the manual.\n",
      "Input #0, mov,mp4,m4a,3gp,3g2,mj2, from 'comfyui_sandbox/video_renders/mp4/render_nfs_4screens_5_sdxl_1.mp4':\n",
      "  Metadata:\n",
      "    major_brand     : isom\n",
      "    minor_version   : 512\n",
      "    compatible_brands: isomiso2avc1mp41\n",
      "    encoder         : Lavf61.4.100\n",
      "  Duration: 00:00:42.65, start: 0.000000, bitrate: 17379 kb/s\n",
      "  Stream #0:0[0x1](und): Video: h264 (High 4:4:4 Predictive) (avc1 / 0x31637661), yuv444p(progressive), 1920x1080, 17377 kb/s, 20 fps, 20 tbr, 10240 tbn (default)\n",
      "      Metadata:\n",
      "        handler_name    : VideoHandler\n",
      "        vendor_id       : [0][0][0][0]\n",
      "        encoder         : Lavc61.9.100 libx264\n",
      "Stream mapping:\n",
      "  Stream #0:0 -> #0:0 (h264 (native) -> png (native))\n",
      "Press [q] to stop, [?] for help\n",
      "Output #0, image2, to 'comfyui_sandbox/video_renders/render_nfs_4screens_5_sdxl_1/%09d.png':\n",
      "  Metadata:\n",
      "    major_brand     : isom\n",
      "    minor_version   : 512\n",
      "    compatible_brands: isomiso2avc1mp41\n",
      "    encoder         : Lavf61.4.100\n",
      "  Stream #0:0(und): Video: png, rgb24(pc, gbr/unknown/unknown, progressive), 1920x1080, q=2-31, 200 kb/s, 20 fps, 20 tbn (default)\n",
      "      Metadata:\n",
      "        handler_name    : VideoHandler\n",
      "        vendor_id       : [0][0][0][0]\n",
      "        encoder         : Lavc61.9.100 png\n",
      "frame=  657 fps=188 q=-0.0 size=N/A time=00:00:32.90 bitrate=N/A speed= 9.4x    \r"
     ]
    },
    {
     "name": "stderr",
     "output_type": "stream",
     "text": [
      "[out#0/image2 @ 0x31121b00] video:3006264KiB audio:0KiB subtitle:0KiB other streams:0KiB global headers:0KiB muxing overhead: unknown\n",
      "frame=  853 fps=193 q=-0.0 Lsize=N/A time=00:00:42.65 bitrate=N/A speed=9.66x    \n"
     ]
    },
    {
     "data": {
      "text/plain": [
       "0"
      ]
     },
     "execution_count": 1,
     "metadata": {},
     "output_type": "execute_result"
    }
   ],
   "source": [
    "import os\n",
    "\n",
    "video_path = \"comfyui_sandbox/video_renders/mp4/render_nfs_4screens_5_sdxl_1.mp4\"\n",
    "video_folder = \"comfyui_sandbox/video_renders/render_nfs_4screens_5_sdxl_1\"\n",
    "\n",
    "\n",
    "os.system(\n",
    "    f\"\"\"\n",
    "mkdir -p {video_folder} &&\n",
    "\n",
    "ffmpeg/ffmpeg -i {video_path} -vf fps=20 -vsync 0 {video_folder}/%09d.png          \n",
    "\"\"\"\n",
    ")\n",
    "# 26 min 15 sec - 42:44.65 - 51293"
   ]
  },
  {
   "cell_type": "code",
   "execution_count": 2,
   "metadata": {},
   "outputs": [
    {
     "name": "stderr",
     "output_type": "stream",
     "text": [
      "ffmpeg version N-71064-gd5e603ddc0-static https://johnvansickle.com/ffmpeg/  Copyright (c) 2000-2024 the FFmpeg developers\n",
      "  built with gcc 8 (Debian 8.3.0-6)\n",
      "  configuration: --enable-gpl --enable-version3 --enable-static --disable-debug --disable-ffplay --disable-indev=sndio --disable-outdev=sndio --cc=gcc --enable-fontconfig --enable-frei0r --enable-gnutls --enable-gmp --enable-libgme --enable-gray --enable-libaom --enable-libfribidi --enable-libass --enable-libvmaf --enable-libfreetype --enable-libmp3lame --enable-libopencore-amrnb --enable-libopencore-amrwb --enable-libopenjpeg --enable-librubberband --enable-libsoxr --enable-libspeex --enable-libsrt --enable-libvorbis --enable-libopus --enable-libtheora --enable-libvidstab --enable-libvo-amrwbenc --enable-libvpx --enable-libwebp --enable-libx264 --enable-libx265 --enable-libxml2 --enable-libdav1d --enable-libxvid --enable-libzvbi --enable-libzimg\n",
      "  libavutil      59. 27.100 / 59. 27.100\n",
      "  libavcodec     61.  9.100 / 61.  9.100\n",
      "  libavformat    61.  4.100 / 61.  4.100\n",
      "  libavdevice    61.  2.100 / 61.  2.100\n",
      "  libavfilter    10.  2.102 / 10.  2.102\n",
      "  libswscale      8.  2.100 /  8.  2.100\n",
      "  libswresample   5.  2.100 /  5.  2.100\n",
      "  libpostproc    58.  2.100 / 58.  2.100\n",
      "Input #0, image2, from 'comfyui_sandbox/video_renders/render_nfs_4screens_5_sdxl_1_upscale_1x/*.png':\n",
      "  Duration: 00:00:13.00, start: 0.000000, bitrate: N/A\n",
      "  Stream #0:0: Video: png, rgb24(pc, gbr/unknown/unknown), 1920x1080, 18 fps, 18 tbr, 18 tbn\n",
      "Stream mapping:\n",
      "  Stream #0:0 -> #0:0 (png (native) -> h264 (libx264))\n",
      "Press [q] to stop, [?] for help\n",
      "[libx264 @ 0x2b6537c0] using cpu capabilities: MMX2 SSE2Fast SSSE3 SSE4.2 AVX FMA3 BMI2 AVX2\n",
      "[libx264 @ 0x2b6537c0] profile High, level 4.0, 4:2:0, 8-bit\n",
      "[libx264 @ 0x2b6537c0] 264 - core 164 r3191 4613ac3 - H.264/MPEG-4 AVC codec - Copyleft 2003-2024 - http://www.videolan.org/x264.html - options: cabac=1 ref=3 deblock=1:0:0 analyse=0x3:0x113 me=hex subme=7 psy=1 psy_rd=1.00:0.00 mixed_ref=1 me_range=16 chroma_me=1 trellis=1 8x8dct=1 cqm=0 deadzone=21,11 fast_pskip=1 chroma_qp_offset=-2 threads=30 lookahead_threads=5 sliced_threads=0 nr=0 decimate=1 interlaced=0 bluray_compat=0 constrained_intra=0 bframes=3 b_pyramid=2 b_adapt=1 b_bias=0 direct=1 weightb=1 open_gop=0 weightp=2 keyint=250 keyint_min=18 scenecut=40 intra_refresh=0 rc_lookahead=40 rc=crf mbtree=1 crf=23.0 qcomp=0.60 qpmin=0 qpmax=69 qpstep=4 ip_ratio=1.40 aq=1:1.00\n",
      "Output #0, mp4, to 'comfyui_sandbox/video_renders/mp4/render_nfs_4screens_5_sdxl_1_upscale_1x.mp4':\n",
      "  Metadata:\n",
      "    encoder         : Lavf61.4.100\n",
      "  Stream #0:0: Video: h264 (avc1 / 0x31637661), yuv420p(progressive), 1920x1080, q=2-31, 18 fps, 18432 tbn\n",
      "      Metadata:\n",
      "        encoder         : Lavc61.9.100 libx264\n",
      "      Side data:\n",
      "        cpb: bitrate max/min/avg: 0/0/0 buffer size: 0 vbv_delay: N/A\n",
      "[out#0/mp4 @ 0x2b652680] video:29462KiB audio:0KiB subtitle:0KiB other streams:0KiB global headers:0KiB muxing overhead: 0.013060%\n",
      "frame=  234 fps= 76 q=-1.0 Lsize=   29466KiB time=00:00:12.88 bitrate=18728.1kbits/s speed=4.17x    \n",
      "[libx264 @ 0x2b6537c0] frame I:4     Avg QP:24.47  size:217234\n",
      "[libx264 @ 0x2b6537c0] frame P:60    Avg QP:26.69  size:143993\n",
      "[libx264 @ 0x2b6537c0] frame B:170   Avg QP:27.41  size:121529\n",
      "[libx264 @ 0x2b6537c0] consecutive B-frames:  2.1%  2.6%  1.3% 94.0%\n",
      "[libx264 @ 0x2b6537c0] mb I  I16..4:  4.5% 64.0% 31.5%\n",
      "[libx264 @ 0x2b6537c0] mb P  I16..4:  2.6% 48.0% 18.7%  P16..4: 14.6% 10.2%  4.6%  0.0%  0.0%    skip: 1.3%\n",
      "[libx264 @ 0x2b6537c0] mb B  I16..4:  1.3% 22.0% 11.8%  B16..8: 22.7% 19.1%  6.4%  direct:10.4%  skip: 6.3%  L0:45.8% L1:38.3% BI:15.9%\n",
      "[libx264 @ 0x2b6537c0] 8x8 transform intra:65.3% inter:68.7%\n",
      "[libx264 @ 0x2b6537c0] coded y,uvDC,uvAC intra: 88.7% 58.0% 19.3% inter: 65.5% 55.0% 1.5%\n",
      "[libx264 @ 0x2b6537c0] i16 v,h,dc,p: 40% 39%  4% 17%\n",
      "[libx264 @ 0x2b6537c0] i8 v,h,dc,ddl,ddr,vr,hd,vl,hu: 14% 22% 12%  6%  8%  6% 13%  6% 13%\n",
      "[libx264 @ 0x2b6537c0] i4 v,h,dc,ddl,ddr,vr,hd,vl,hu: 16% 23% 12%  7% 10%  6% 13%  5%  9%\n",
      "[libx264 @ 0x2b6537c0] i8c dc,h,v,p: 55% 27% 14%  4%\n",
      "[libx264 @ 0x2b6537c0] Weighted P-Frames: Y:6.7% UV:6.7%\n",
      "[libx264 @ 0x2b6537c0] ref P L0: 38.7% 16.4% 27.1% 16.9%  1.0%\n",
      "[libx264 @ 0x2b6537c0] ref B L0: 76.7% 17.9%  5.4%\n",
      "[libx264 @ 0x2b6537c0] ref B L1: 90.0% 10.0%\n",
      "[libx264 @ 0x2b6537c0] kb/s:18565.21\n"
     ]
    },
    {
     "data": {
      "text/plain": [
       "0"
      ]
     },
     "execution_count": 2,
     "metadata": {},
     "output_type": "execute_result"
    }
   ],
   "source": [
    "import os\n",
    "from IPython.display import Video\n",
    "\n",
    "# -loglevel error\n",
    "output_name = \"comfyui_sandbox/video_renders/mp4/render_nfs_4screens_5_sdxl_1_upscale_1x.mp4\"\n",
    "video_folder = \"comfyui_sandbox/video_renders/render_nfs_4screens_5_sdxl_1_upscale_1x\"\n",
    "os.system(\n",
    "    f\"\"\"\n",
    "ffmpeg/ffmpeg -framerate 18  -pattern_type glob -i '{video_folder}/*.png' -pix_fmt yuv420p {output_name} -y\n",
    "\"\"\"\n",
    ")\n",
    "# ffmpeg/ffmpeg -framerate 12  -pattern_type glob -i '{video_folder}/*canny.png' {output_name} -y\n",
    "# ffmpeg/ffmpeg -framerate 12  -pattern_type glob -i '{video_folder}/*original.png' {output_name} -y\n",
    "# ffmpeg/ffmpeg -framerate 24  -pattern_type glob -i '{video_folder}/*.png' -c:v libx264 -pix_fmt yuv420p {output_name} -y"
   ]
  },
  {
   "cell_type": "markdown",
   "metadata": {},
   "source": [
    "### extract audio"
   ]
  },
  {
   "cell_type": "code",
   "execution_count": null,
   "metadata": {},
   "outputs": [],
   "source": [
    "import os\n",
    "from IPython.display import Video\n",
    "\n",
    "# -loglevel error\n",
    "output_name = \"diffusers_experiments/nfs_24fps_out.mp3\"\n",
    "video_folder = \"diffusers_experiments/nfs.mp4\"\n",
    "os.system(\n",
    "    f\"\"\"\n",
    "ffmpeg/ffmpeg -i {video_folder} -q:a 0 -map a {output_name} -y\n",
    "\"\"\"\n",
    ")"
   ]
  },
  {
   "cell_type": "markdown",
   "metadata": {},
   "source": [
    "#### combine video and audio"
   ]
  },
  {
   "cell_type": "code",
   "execution_count": 5,
   "metadata": {},
   "outputs": [
    {
     "name": "stderr",
     "output_type": "stream",
     "text": [
      "ffmpeg version N-71064-gd5e603ddc0-static https://johnvansickle.com/ffmpeg/  Copyright (c) 2000-2024 the FFmpeg developers\n",
      "  built with gcc 8 (Debian 8.3.0-6)\n",
      "  configuration: --enable-gpl --enable-version3 --enable-static --disable-debug --disable-ffplay --disable-indev=sndio --disable-outdev=sndio --cc=gcc --enable-fontconfig --enable-frei0r --enable-gnutls --enable-gmp --enable-libgme --enable-gray --enable-libaom --enable-libfribidi --enable-libass --enable-libvmaf --enable-libfreetype --enable-libmp3lame --enable-libopencore-amrnb --enable-libopencore-amrwb --enable-libopenjpeg --enable-librubberband --enable-libsoxr --enable-libspeex --enable-libsrt --enable-libvorbis --enable-libopus --enable-libtheora --enable-libvidstab --enable-libvo-amrwbenc --enable-libvpx --enable-libwebp --enable-libx264 --enable-libx265 --enable-libxml2 --enable-libdav1d --enable-libxvid --enable-libzvbi --enable-libzimg\n",
      "  libavutil      59. 27.100 / 59. 27.100\n",
      "  libavcodec     61.  9.100 / 61.  9.100\n",
      "  libavformat    61.  4.100 / 61.  4.100\n",
      "  libavdevice    61.  2.100 / 61.  2.100\n",
      "  libavfilter    10.  2.102 / 10.  2.102\n",
      "  libswscale      8.  2.100 /  8.  2.100\n",
      "  libswresample   5.  2.100 /  5.  2.100\n",
      "  libpostproc    58.  2.100 / 58.  2.100\n",
      "Input #0, mov,mp4,m4a,3gp,3g2,mj2, from 'diffusers_experiments/nfs_24fps_out.mp4':\n",
      "  Metadata:\n",
      "    major_brand     : isom\n",
      "    minor_version   : 512\n",
      "    compatible_brands: isomiso2avc1mp41\n",
      "    encoder         : Lavf61.4.100\n",
      "  Duration: 00:02:34.04, start: 0.000000, bitrate: 17912 kb/s\n",
      "  Stream #0:0[0x1](und): Video: h264 (High) (avc1 / 0x31637661), yuv420p(progressive), 1920x1080, 17910 kb/s, 24 fps, 24 tbr, 12288 tbn (default)\n",
      "      Metadata:\n",
      "        handler_name    : VideoHandler\n",
      "        vendor_id       : [0][0][0][0]\n",
      "        encoder         : Lavc61.9.100 libx264\n",
      "Input #1, mp3, from 'diffusers_experiments/nfs_24fps_out.mp3':\n",
      "  Metadata:\n",
      "    major_brand     : isom\n",
      "    minor_version   : 512\n",
      "    compatible_brands: isomiso2avc1mp41\n",
      "    encoder         : Lavf61.4.100\n",
      "  Duration: 00:03:36.77, start: 0.023021, bitrate: 241 kb/s\n",
      "  Stream #1:0: Audio: mp3 (mp3float), 48000 Hz, stereo, fltp, 241 kb/s\n",
      "      Metadata:\n",
      "        encoder         : Lavc61.9.\n",
      "Stream mapping:\n",
      "  Stream #0:0 -> #0:0 (copy)\n",
      "  Stream #1:0 -> #0:1 (copy)\n",
      "Output #0, mp4, to 'diffusers_experiments/nfs_24fps_out_audio.mp4':\n",
      "  Metadata:\n",
      "    major_brand     : isom\n",
      "    minor_version   : 512\n",
      "    compatible_brands: isomiso2avc1mp41\n",
      "    encoder         : Lavf61.4.100\n",
      "  Stream #0:0(und): Video: h264 (High) (avc1 / 0x31637661), yuv420p(progressive), 1920x1080, q=2-31, 17910 kb/s, 24 fps, 24 tbr, 12288 tbn (default)\n",
      "      Metadata:\n",
      "        handler_name    : VideoHandler\n",
      "        vendor_id       : [0][0][0][0]\n",
      "        encoder         : Lavc61.9.100 libx264\n",
      "  Stream #0:1: Audio: mp3 (mp4a / 0x6134706D), 48000 Hz, stereo, fltp, 241 kb/s\n",
      "      Metadata:\n",
      "        encoder         : Lavc61.9.\n",
      "Press [q] to stop, [?] for help\n",
      "[out#0/mp4 @ 0x72c1a40] video:336781KiB audio:6391KiB subtitle:0KiB other streams:0KiB global headers:0KiB muxing overhead: 0.037868%\n",
      "size=  343303KiB time=00:02:33.95 bitrate=18266.9kbits/s speed=1.06e+03x    \n"
     ]
    },
    {
     "data": {
      "text/plain": [
       "0"
      ]
     },
     "execution_count": 5,
     "metadata": {},
     "output_type": "execute_result"
    }
   ],
   "source": [
    "import os\n",
    "from IPython.display import Video\n",
    "\n",
    "# -loglevel error\n",
    "output_name = \"diffusers_experiments/nfs_24fps_out_audio.mp4\"\n",
    "video_file = \"diffusers_experiments/nfs_24fps_out.mp4\"\n",
    "audio_file = \"diffusers_experiments/nfs_24fps_out.mp3\"\n",
    "os.system(\n",
    "    f\"\"\"\n",
    "ffmpeg/ffmpeg -i {video_file} -i {audio_file} -c copy -map 0:v:0 -map 1:a:0 {output_name}\n",
    "\"\"\"\n",
    ")"
   ]
  },
  {
   "cell_type": "markdown",
   "metadata": {},
   "source": [
    "### merge videos"
   ]
  },
  {
   "cell_type": "code",
   "execution_count": 8,
   "metadata": {},
   "outputs": [
    {
     "name": "stderr",
     "output_type": "stream",
     "text": [
      "ffmpeg version N-71064-gd5e603ddc0-static https://johnvansickle.com/ffmpeg/  Copyright (c) 2000-2024 the FFmpeg developers\n",
      "  built with gcc 8 (Debian 8.3.0-6)\n",
      "  configuration: --enable-gpl --enable-version3 --enable-static --disable-debug --disable-ffplay --disable-indev=sndio --disable-outdev=sndio --cc=gcc --enable-fontconfig --enable-frei0r --enable-gnutls --enable-gmp --enable-libgme --enable-gray --enable-libaom --enable-libfribidi --enable-libass --enable-libvmaf --enable-libfreetype --enable-libmp3lame --enable-libopencore-amrnb --enable-libopencore-amrwb --enable-libopenjpeg --enable-librubberband --enable-libsoxr --enable-libspeex --enable-libsrt --enable-libvorbis --enable-libopus --enable-libtheora --enable-libvidstab --enable-libvo-amrwbenc --enable-libvpx --enable-libwebp --enable-libx264 --enable-libx265 --enable-libxml2 --enable-libdav1d --enable-libxvid --enable-libzvbi --enable-libzimg\n",
      "  libavutil      59. 27.100 / 59. 27.100\n",
      "  libavcodec     61.  9.100 / 61.  9.100\n",
      "  libavformat    61.  4.100 / 61.  4.100\n",
      "  libavdevice    61.  2.100 / 61.  2.100\n",
      "  libavfilter    10.  2.102 / 10.  2.102\n",
      "  libswscale      8.  2.100 /  8.  2.100\n",
      "  libswresample   5.  2.100 /  5.  2.100\n",
      "  libpostproc    58.  2.100 / 58.  2.100\n",
      "Input #0, mov,mp4,m4a,3gp,3g2,mj2, from 'showcases/showcase_3/showcase_3_original.mp4':\n",
      "  Metadata:\n",
      "    major_brand     : isom\n",
      "    minor_version   : 512\n",
      "    compatible_brands: isomiso2avc1mp41\n",
      "    encoder         : Lavf58.29.100\n",
      "  Duration: 00:00:08.00, start: 0.000000, bitrate: 3728 kb/s\n",
      "  Stream #0:0[0x1](und): Video: h264 (High) (avc1 / 0x31637661), yuv420p(progressive), 848x480, 3726 kb/s, 10 fps, 10 tbr, 10240 tbn (default)\n",
      "      Metadata:\n",
      "        handler_name    : VideoHandler\n",
      "        vendor_id       : [0][0][0][0]\n",
      "Input #1, mov,mp4,m4a,3gp,3g2,mj2, from 'showcases/showcase_3/showcase_3_canny.mp4':\n",
      "  Metadata:\n",
      "    major_brand     : isom\n",
      "    minor_version   : 512\n",
      "    compatible_brands: isomiso2avc1mp41\n",
      "    encoder         : Lavf58.29.100\n",
      "  Duration: 00:00:08.00, start: 0.000000, bitrate: 5096 kb/s\n",
      "  Stream #1:0[0x1](und): Video: h264 (High) (avc1 / 0x31637661), yuv420p(progressive), 848x480, 5094 kb/s, 10 fps, 10 tbr, 10240 tbn (default)\n",
      "      Metadata:\n",
      "        handler_name    : VideoHandler\n",
      "        vendor_id       : [0][0][0][0]\n",
      "Stream mapping:\n",
      "  Stream #0:0 (h264) -> hstack\n",
      "  Stream #1:0 (h264) -> hstack\n",
      "  hstack:default -> Stream #0:0 (libx264)\n",
      "Press [q] to stop, [?] for help\n",
      "[libx264 @ 0x35c2a0c0] using cpu capabilities: MMX2 SSE2Fast SSSE3 SSE4.2 AVX FMA3 BMI2 AVX2 AVX512\n",
      "[libx264 @ 0x35c2a0c0] profile High, level 3.1, 4:2:0, 8-bit\n",
      "[libx264 @ 0x35c2a0c0] 264 - core 164 r3191 4613ac3 - H.264/MPEG-4 AVC codec - Copyleft 2003-2024 - http://www.videolan.org/x264.html - options: cabac=1 ref=3 deblock=1:0:0 analyse=0x3:0x113 me=hex subme=7 psy=1 psy_rd=1.00:0.00 mixed_ref=1 me_range=16 chroma_me=1 trellis=1 8x8dct=1 cqm=0 deadzone=21,11 fast_pskip=1 chroma_qp_offset=-2 threads=15 lookahead_threads=2 sliced_threads=0 nr=0 decimate=1 interlaced=0 bluray_compat=0 constrained_intra=0 bframes=3 b_pyramid=2 b_adapt=1 b_bias=0 direct=1 weightb=1 open_gop=0 weightp=2 keyint=250 keyint_min=10 scenecut=40 intra_refresh=0 rc_lookahead=40 rc=crf mbtree=1 crf=23.0 qcomp=0.60 qpmin=0 qpmax=69 qpstep=4 ip_ratio=1.40 aq=1:1.00\n",
      "Output #0, mp4, to 'showcases/showcase_3/showcase_3_side.mp4':\n",
      "  Metadata:\n",
      "    major_brand     : isom\n",
      "    minor_version   : 512\n",
      "    compatible_brands: isomiso2avc1mp41\n",
      "    encoder         : Lavf61.4.100\n",
      "  Stream #0:0: Video: h264 (avc1 / 0x31637661), yuv420p(progressive), 1696x480, q=2-31, 10 fps, 10240 tbn\n",
      "      Metadata:\n",
      "        encoder         : Lavc61.9.100 libx264\n",
      "      Side data:\n",
      "        cpb: bitrate max/min/avg: 0/0/0 buffer size: 0 vbv_delay: N/A\n",
      "[out#0/mp4 @ 0x35c2b4c0] video:6453KiB audio:0KiB subtitle:0KiB other streams:0KiB global headers:0KiB muxing overhead: 0.028844%\n",
      "frame=   80 fps=0.0 q=-1.0 Lsize=    6455KiB time=00:00:07.80 bitrate=6779.2kbits/s speed= 7.8x    \n",
      "[libx264 @ 0x35c2a0c0] frame I:1     Avg QP:23.73  size: 93729\n",
      "[libx264 @ 0x35c2a0c0] frame P:20    Avg QP:23.73  size: 95643\n",
      "[libx264 @ 0x35c2a0c0] frame B:59    Avg QP:24.77  size: 77976\n",
      "[libx264 @ 0x35c2a0c0] consecutive B-frames:  1.2%  0.0%  3.8% 95.0%\n",
      "[libx264 @ 0x35c2a0c0] mb I  I16..4:  8.0% 41.0% 51.0%\n",
      "[libx264 @ 0x35c2a0c0] mb P  I16..4:  7.4% 31.0% 31.3%  P16..4: 13.0%  7.4%  5.0%  0.0%  0.0%    skip: 4.9%\n",
      "[libx264 @ 0x35c2a0c0] mb B  I16..4:  4.0% 15.3% 18.5%  B16..8: 22.7% 15.7%  6.5%  direct: 5.8%  skip:11.4%  L0:42.8% L1:39.9% BI:17.2%\n",
      "[libx264 @ 0x35c2a0c0] 8x8 transform intra:41.9% inter:45.5%\n",
      "[libx264 @ 0x35c2a0c0] coded y,uvDC,uvAC intra: 86.6% 38.9% 18.8% inter: 47.9% 18.4% 2.4%\n",
      "[libx264 @ 0x35c2a0c0] i16 v,h,dc,p: 13% 22% 44% 22%\n",
      "[libx264 @ 0x35c2a0c0] i8 v,h,dc,ddl,ddr,vr,hd,vl,hu: 11% 22% 22%  5%  6%  4% 12%  4% 14%\n",
      "[libx264 @ 0x35c2a0c0] i4 v,h,dc,ddl,ddr,vr,hd,vl,hu: 13% 22% 20%  6%  7%  5% 11%  4% 10%\n",
      "[libx264 @ 0x35c2a0c0] i8c dc,h,v,p: 76% 14%  7%  3%\n",
      "[libx264 @ 0x35c2a0c0] Weighted P-Frames: Y:0.0% UV:0.0%\n",
      "[libx264 @ 0x35c2a0c0] ref P L0: 49.6% 14.6% 22.4% 13.5%\n",
      "[libx264 @ 0x35c2a0c0] ref B L0: 85.4% 11.0%  3.6%\n",
      "[libx264 @ 0x35c2a0c0] ref B L1: 94.6%  5.4%\n",
      "[libx264 @ 0x35c2a0c0] kb/s:6607.17\n"
     ]
    },
    {
     "data": {
      "text/plain": [
       "0"
      ]
     },
     "execution_count": 8,
     "metadata": {},
     "output_type": "execute_result"
    }
   ],
   "source": [
    "# ffmpeg -i left.mp4 -i right.mp4 -filter_complex hstack output.mp4\n",
    "\n",
    "import os\n",
    "from IPython.display import Video\n",
    "\n",
    "# -loglevel error\n",
    "output_name = \"showcases/showcase_3/showcase_3_side.mp4\"\n",
    "video_file_1 = \"showcases/showcase_3/showcase_3_original.mp4\"\n",
    "video_file_2 = \"showcases/showcase_3/showcase_3_canny.mp4\"\n",
    "# ffmpeg/ffmpeg -i {video_file_1} -i {video_file_2} \\\n",
    "#  -filter_complex \\\n",
    "#     \"[0:v]pad=iw*2:ih[int]; \\\n",
    "#      [int][1:v]overlay=W/2:0[vid]\" \\\n",
    "# -map \"[vid]\" \\\n",
    "# -c:v libx264 -crf 23 \\\n",
    "# {output_name} -y\n",
    "os.system(\n",
    "    f\"\"\"\n",
    "ffmpeg/ffmpeg -i {video_file_1} -i {video_file_2} -filter_complex hstack {output_name} -y\n",
    "\"\"\"\n",
    ")"
   ]
  },
  {
   "cell_type": "markdown",
   "metadata": {},
   "source": [
    "### Extract fragments"
   ]
  },
  {
   "cell_type": "code",
   "execution_count": 6,
   "metadata": {},
   "outputs": [
    {
     "name": "stderr",
     "output_type": "stream",
     "text": [
      "ffmpeg version 4.3 Copyright (c) 2000-2020 the FFmpeg developers\n",
      "  built with gcc 7.3.0 (crosstool-NG 1.23.0.449-a04d0)\n",
      "  configuration: --prefix=/opt/conda/conda-bld/ffmpeg_1597178665428/_h_env_placehold_placehold_placehold_placehold_placehold_placehold_placehold_placehold_placehold_placehold_placehold_placehold_placehold_placehold_placehold_placehold_placehold_placehold_placehold_placehold_placeh --cc=/opt/conda/conda-bld/ffmpeg_1597178665428/_build_env/bin/x86_64-conda_cos6-linux-gnu-cc --disable-doc --disable-openssl --enable-avresample --enable-gnutls --enable-hardcoded-tables --enable-libfreetype --enable-libopenh264 --enable-pic --enable-pthreads --enable-shared --disable-static --enable-version3 --enable-zlib --enable-libmp3lame\n",
      "  libavutil      56. 51.100 / 56. 51.100\n",
      "  libavcodec     58. 91.100 / 58. 91.100\n",
      "  libavformat    58. 45.100 / 58. 45.100\n",
      "  libavdevice    58. 10.100 / 58. 10.100\n",
      "  libavfilter     7. 85.100 /  7. 85.100\n",
      "  libavresample   4.  0.  0 /  4.  0.  0\n",
      "  libswscale      5.  7.100 /  5.  7.100\n",
      "  libswresample   3.  7.100 /  3.  7.100\n",
      "Input #0, mov,mp4,m4a,3gp,3g2,mj2, from 'comfyui_sandbox/video_renders/mp4/render_nfs_noblur_high_graph_2_ip_control_lora_1.mp4':\n",
      "  Metadata:\n",
      "    major_brand     : isom\n",
      "    minor_version   : 512\n",
      "    compatible_brands: isomiso2avc1mp41\n",
      "    encoder         : Lavf61.4.100\n",
      "  Duration: 00:01:35.15, start: 0.000000, bitrate: 17848 kb/s\n",
      "    Stream #0:0(und): Video: h264 (High 4:4:4 Predictive) (avc1 / 0x31637661), yuv444p, 1920x1080, 17847 kb/s, 20 fps, 20 tbr, 10240 tbn, 40 tbc (default)\n",
      "    Metadata:\n",
      "      handler_name    : VideoHandler\n",
      "      encoder         : Lavc61.9.100 libx264\n",
      "Stream mapping:\n",
      "  Stream #0:0 -> #0:0 (h264 (native) -> mpeg4 (native))\n",
      "Press [q] to stop, [?] for help\n",
      "Output #0, mp4, to 'comfyui_sandbox/video_renders/mp4/render_nfs_noblur_high_graph_2_ip_control_lora_1_5s.mp4':\n",
      "  Metadata:\n",
      "    major_brand     : isom\n",
      "    minor_version   : 512\n",
      "    compatible_brands: isomiso2avc1mp41\n",
      "    encoder         : Lavf58.45.100\n",
      "    Stream #0:0(und): Video: mpeg4 (mp4v / 0x7634706D), yuv420p, 1920x1080, q=2-31, 200 kb/s, 20 fps, 10240 tbn, 20 tbc (default)\n",
      "    Metadata:\n",
      "      handler_name    : VideoHandler\n",
      "      encoder         : Lavc58.91.100 mpeg4\n",
      "    Side data:\n",
      "      cpb: bitrate max/min/avg: 0/0/200000 buffer size: 0 vbv_delay: N/A\n",
      "frame=  100 fps= 65 q=31.0 Lsize=    3889kB time=00:00:04.95 bitrate=6436.0kbits/s speed=3.21x    \n",
      "video:3888kB audio:0kB subtitle:0kB other streams:0kB global headers:0kB muxing overhead: 0.033685%\n"
     ]
    },
    {
     "data": {
      "text/plain": [
       "0"
      ]
     },
     "execution_count": 6,
     "metadata": {},
     "output_type": "execute_result"
    }
   ],
   "source": [
    "import os\n",
    "from IPython.display import Video\n",
    "\n",
    "output_name = \"comfyui_sandbox/video_renders/mp4/render_nfs_noblur_high_graph_2_ip_control_lora_1_5s.mp4\"\n",
    "video_name = \"comfyui_sandbox/video_renders/mp4/render_nfs_noblur_high_graph_2_ip_control_lora_1.mp4\"\n",
    "os.system(\n",
    "    f\"\"\"\n",
    "ffmpeg -i {video_name} -ss 00:00:14.0 -t 5 -an -q:a 0 {output_name} -y\n",
    "\"\"\"\n",
    ")"
   ]
  },
  {
   "cell_type": "markdown",
   "metadata": {},
   "source": [
    "### concat several videos"
   ]
  },
  {
   "cell_type": "code",
   "execution_count": 9,
   "metadata": {},
   "outputs": [
    {
     "name": "stderr",
     "output_type": "stream",
     "text": [
      "ffmpeg version 4.3 Copyright (c) 2000-2020 the FFmpeg developers\n",
      "  built with gcc 7.3.0 (crosstool-NG 1.23.0.449-a04d0)\n",
      "  configuration: --prefix=/opt/conda/conda-bld/ffmpeg_1597178665428/_h_env_placehold_placehold_placehold_placehold_placehold_placehold_placehold_placehold_placehold_placehold_placehold_placehold_placehold_placehold_placehold_placehold_placehold_placehold_placehold_placehold_placeh --cc=/opt/conda/conda-bld/ffmpeg_1597178665428/_build_env/bin/x86_64-conda_cos6-linux-gnu-cc --disable-doc --disable-openssl --enable-avresample --enable-gnutls --enable-hardcoded-tables --enable-libfreetype --enable-libopenh264 --enable-pic --enable-pthreads --enable-shared --disable-static --enable-version3 --enable-zlib --enable-libmp3lame\n",
      "  libavutil      56. 51.100 / 56. 51.100\n",
      "  libavcodec     58. 91.100 / 58. 91.100\n",
      "  libavformat    58. 45.100 / 58. 45.100\n",
      "  libavdevice    58. 10.100 / 58. 10.100\n",
      "  libavfilter     7. 85.100 /  7. 85.100\n",
      "  libavresample   4.  0.  0 /  4.  0.  0\n",
      "  libswscale      5.  7.100 /  5.  7.100\n",
      "  libswresample   3.  7.100 /  3.  7.100\n",
      "[mov,mp4,m4a,3gp,3g2,mj2 @ 0x5632255fda80] Auto-inserting h264_mp4toannexb bitstream filter\n",
      "Input #0, concat, from 'comfyui_sandbox/videos_concat.txt':\n",
      "  Duration: N/A, start: 0.000000, bitrate: 7260 kb/s\n",
      "    Stream #0:0(und): Video: h264 (High 4:4:4 Predictive) (avc1 / 0x31637661), yuv444p, 1568x880, 7260 kb/s, 20 fps, 20 tbr, 10240 tbn, 40 tbc\n",
      "    Metadata:\n",
      "      handler_name    : VideoHandler\n",
      "      encoder         : Lavc61.9.100 libx264\n",
      "Output #0, mp4, to 'comfyui_sandbox/video_renders/mp4/render_venhance_1_100_101_refocus_upscale_mix.mp4':\n",
      "  Metadata:\n",
      "    encoder         : Lavf58.45.100\n",
      "    Stream #0:0(und): Video: h264 (High 4:4:4 Predictive) (avc1 / 0x31637661), yuv444p, 1568x880, q=2-31, 7260 kb/s, 20 fps, 20 tbr, 10240 tbn, 10240 tbc\n",
      "    Metadata:\n",
      "      handler_name    : VideoHandler\n",
      "      encoder         : Lavc61.9.100 libx264\n",
      "Stream mapping:\n",
      "  Stream #0:0 -> #0:0 (copy)\n",
      "Press [q] to stop, [?] for help\n",
      "[mov,mp4,m4a,3gp,3g2,mj2 @ 0x5632255fda80] Auto-inserting h264_mp4toannexb bitstream filter\n",
      "frame=  595 fps=0.0 q=-1.0 Lsize=   27282kB time=00:00:29.60 bitrate=7550.5kbits/s speed= 920x    \n",
      "video:27274kB audio:0kB subtitle:0kB other streams:0kB global headers:0kB muxing overhead: 0.029747%\n"
     ]
    },
    {
     "data": {
      "text/plain": [
       "0"
      ]
     },
     "execution_count": 9,
     "metadata": {},
     "output_type": "execute_result"
    }
   ],
   "source": [
    "import os\n",
    "from IPython.display import Video\n",
    "\n",
    "output_name = \"comfyui_sandbox/video_renders/mp4/render_venhance_1_100_101_refocus_upscale_mix.mp4\"\n",
    "video_list = \"comfyui_sandbox/videos_concat.txt\"\n",
    "os.system(\n",
    "    f\"\"\"\n",
    "ffmpeg -f concat -safe 0 -i {video_list} -c copy {output_name} -y\n",
    "\"\"\"\n",
    ")"
   ]
  },
  {
   "cell_type": "markdown",
   "metadata": {},
   "source": [
    "### rename reshade screenshots"
   ]
  },
  {
   "cell_type": "code",
   "execution_count": 2,
   "metadata": {},
   "outputs": [],
   "source": [
    "import os\n",
    "\n",
    "base_path = \"/code/comfyui_sandbox/video_renders/render_reshade_video_4/\"\n",
    "\n",
    "for name in sorted(os.listdir(base_path)):\n",
    "    if not \"original\" in name:\n",
    "        new_name = name.replace(\".png\", \" canny.png\")\n",
    "        os.rename(base_path + name, base_path + new_name)\n",
    "    # break"
   ]
  },
  {
   "cell_type": "code",
   "execution_count": 3,
   "metadata": {},
   "outputs": [
    {
     "data": {
      "text/plain": [
       "1067"
      ]
     },
     "execution_count": 3,
     "metadata": {},
     "output_type": "execute_result"
    }
   ],
   "source": [
    "import os\n",
    "\n",
    "base_path = \"/code/comfyui_sandbox/video_renders/render_reshade_video_4/\"\n",
    "len([item for item in os.listdir(base_path) if \"orig\" in item])"
   ]
  },
  {
   "cell_type": "markdown",
   "metadata": {},
   "source": [
    "### Compress dataset"
   ]
  },
  {
   "cell_type": "code",
   "execution_count": 3,
   "metadata": {},
   "outputs": [
    {
     "data": {
      "text/plain": [
       "10.834458912037036"
      ]
     },
     "execution_count": 3,
     "metadata": {},
     "output_type": "execute_result"
    }
   ],
   "source": [
    "51293 / 8 * 146 / 60 / 60 / 24"
   ]
  }
 ],
 "metadata": {
  "kernelspec": {
   "display_name": "base",
   "language": "python",
   "name": "python3"
  },
  "language_info": {
   "codemirror_mode": {
    "name": "ipython",
    "version": 3
   },
   "file_extension": ".py",
   "mimetype": "text/x-python",
   "name": "python",
   "nbconvert_exporter": "python",
   "pygments_lexer": "ipython3",
   "version": "3.11.10"
  }
 },
 "nbformat": 4,
 "nbformat_minor": 2
}
