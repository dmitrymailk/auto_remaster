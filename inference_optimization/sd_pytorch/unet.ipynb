{
 "cells": [
  {
   "cell_type": "code",
   "execution_count": null,
   "metadata": {},
   "outputs": [],
   "source": [
    "from diffusers import AutoencoderDC\n",
    "import torch\n",
    "\n",
    "tiny_ae = AutoencoderDC(\n",
    "    in_channels=3,\n",
    "    latent_channels=4,\n",
    "    attention_head_dim=32,\n",
    "    encoder_block_types=[\n",
    "        \"ResBlock\",\n",
    "        \"ResBlock\",\n",
    "        \"EfficientViTBlock\",\n",
    "        \"EfficientViTBlock\",\n",
    "    ],\n",
    "    decoder_block_types=[\n",
    "        \"ResBlock\",\n",
    "        \"ResBlock\",\n",
    "        \"EfficientViTBlock\",\n",
    "        \"EfficientViTBlock\",\n",
    "    ],\n",
    "    encoder_block_out_channels=[64, 64, 64, 64],\n",
    "    decoder_block_out_channels=(64, 64, 64, 64),\n",
    "    encoder_layers_per_block=(1, 2, 3, 3),\n",
    "    decoder_layers_per_block=(3, 3, 3, 1),\n",
    "    encoder_qkv_multiscales=((), (), (5,), (5,)),\n",
    "    decoder_qkv_multiscales=((), (), (5,), (5,)),\n",
    "    upsample_block_type=\"interpolate\",\n",
    "    downsample_block_type=\"Conv\",\n",
    "    decoder_norm_types=\"rms_norm\",\n",
    "    decoder_act_fns=\"silu\",\n",
    "    scaling_factor=0.41407,\n",
    ")\n",
    "tiny_ae = tiny_ae.eval().cuda()\n",
    "tiny_ae = tiny_ae.to(torch.float16)\n",
    "tiny_ae.requires_grad_(False)\n"
   ]
  },
  {
   "cell_type": "code",
   "execution_count": null,
   "metadata": {},
   "outputs": [],
   "source": [
    "from diffusers import UNet2DModel\n",
    "\n",
    "unet2d_config = {\n",
    "    \"sample_size\": 64,\n",
    "    \"in_channels\": 4,\n",
    "    \"out_channels\": 4,\n",
    "    \"center_input_sample\": False,\n",
    "    \"time_embedding_type\": \"positional\",\n",
    "    \"freq_shift\": 0,\n",
    "    \"flip_sin_to_cos\": True,\n",
    "    \"down_block_types\": (\"DownBlock2D\", \"DownBlock2D\", \"DownBlock2D\"),\n",
    "    \"up_block_types\": (\"UpBlock2D\", \"UpBlock2D\", \"UpBlock2D\"),\n",
    "    \"block_out_channels\": [320, 640, 1280],\n",
    "    \"layers_per_block\": 1,\n",
    "    \"mid_block_scale_factor\": 1,\n",
    "    \"downsample_padding\": 1,\n",
    "    \"downsample_type\": \"conv\",\n",
    "    \"upsample_type\": \"conv\",\n",
    "    \"dropout\": 0.0,\n",
    "    \"act_fn\": \"silu\",\n",
    "    \"norm_num_groups\": 32,\n",
    "    \"norm_eps\": 1e-05,\n",
    "    \"resnet_time_scale_shift\": \"default\",\n",
    "    \"add_attention\": False,\n",
    "}\n",
    "\n",
    "\n",
    "unet = UNet2DModel(**unet2d_config).to(\"cuda\").to(torch.float16)\n",
    "unet.requires_grad_(False)\n",
    "\"\""
   ]
  },
  {
   "cell_type": "code",
   "execution_count": 17,
   "metadata": {},
   "outputs": [],
   "source": [
    "c_t = torch.randn(\n",
    "    [1, 3, 512, 512],\n",
    "    # [1, 3, 720, 1280],\n",
    "    device=\"cuda\",\n",
    "    dtype=torch.float16,\n",
    ")\n",
    "timesteps = torch.tensor([999], device=\"cuda\").long()"
   ]
  },
  {
   "cell_type": "code",
   "execution_count": 18,
   "metadata": {},
   "outputs": [],
   "source": [
    "encoded_control = tiny_ae.encode(c_t, False)[0] * tiny_ae.config.scaling_factor\n",
    "# model_pred = model.simple_unet(\n",
    "#     encoded_control,\n",
    "#     timesteps,\n",
    "# )"
   ]
  },
  {
   "cell_type": "code",
   "execution_count": 15,
   "metadata": {},
   "outputs": [
    {
     "data": {
      "text/plain": [
       "torch.Size([1, 4, 64, 64])"
      ]
     },
     "execution_count": 15,
     "metadata": {},
     "output_type": "execute_result"
    }
   ],
   "source": [
    "encoded_control.shape"
   ]
  },
  {
   "cell_type": "code",
   "execution_count": 23,
   "metadata": {},
   "outputs": [
    {
     "data": {
      "text/plain": [
       "tensor([[[[-0.0953,  0.1296, -0.2114,  ..., -0.1379,  0.0031, -0.0450],\n",
       "          [-0.1094,  0.2783,  0.0085,  ...,  0.1550,  0.1338,  0.0625],\n",
       "          [ 0.1063,  0.4536,  0.0635,  ...,  0.3228,  0.1267,  0.1602],\n",
       "          ...,\n",
       "          [ 0.0596,  0.5068,  0.1382,  ...,  0.3899,  0.4070,  0.1794],\n",
       "          [ 0.0935,  0.0449,  0.0568,  ...,  0.2219,  0.3391,  0.1384],\n",
       "          [ 0.2146,  0.0825,  0.2273,  ...,  0.1475,  0.3501,  0.0595]],\n",
       "\n",
       "         [[ 0.0799,  0.2280,  0.2698,  ..., -0.1169, -0.0296,  0.0739],\n",
       "          [-0.1298, -0.1722, -0.3428,  ..., -0.3320, -0.0090, -0.2155],\n",
       "          [ 0.0288, -0.0420, -0.0370,  ..., -0.0316, -0.3037, -0.0642],\n",
       "          ...,\n",
       "          [-0.1481,  0.0814, -0.0603,  ...,  0.0187,  0.0584, -0.1100],\n",
       "          [-0.1915,  0.0198,  0.0429,  ...,  0.1971, -0.0712, -0.0511],\n",
       "          [-0.0853,  0.0863,  0.1594,  ...,  0.0923,  0.0843,  0.0395]],\n",
       "\n",
       "         [[ 0.1591,  0.3323,  0.1899,  ...,  0.3755,  0.1542,  0.2075],\n",
       "          [ 0.1565,  0.0635,  0.5117,  ...,  0.2798,  0.1156,  0.0071],\n",
       "          [ 0.0440,  0.3640,  0.3149,  ...,  0.7559,  0.5840,  0.2406],\n",
       "          ...,\n",
       "          [ 0.1876,  0.2869,  0.1932,  ...,  0.3430,  0.2844,  0.1111],\n",
       "          [ 0.0969,  0.1010,  0.0918,  ...,  0.2386,  0.2292, -0.2227],\n",
       "          [ 0.0021, -0.0397,  0.0847,  ..., -0.0580, -0.1289, -0.2080]],\n",
       "\n",
       "         [[-0.2949,  0.3213,  0.0916,  ...,  0.1484,  0.2852,  0.1510],\n",
       "          [-0.3086, -0.1327, -0.1466,  ...,  0.1072,  0.2100,  0.1208],\n",
       "          [-0.2030,  0.0857, -0.4209,  ..., -0.1323,  0.2043,  0.1967],\n",
       "          ...,\n",
       "          [-0.2388,  0.1044,  0.2144,  ..., -0.0417,  0.0071,  0.1508],\n",
       "          [-0.0970,  0.0869, -0.1973,  ...,  0.2249, -0.0028, -0.0792],\n",
       "          [-0.1906, -0.1038, -0.0264,  ...,  0.0202, -0.0487, -0.2057]]]],\n",
       "       device='cuda:0', dtype=torch.float16)"
      ]
     },
     "execution_count": 23,
     "metadata": {},
     "output_type": "execute_result"
    }
   ],
   "source": [
    "unet(\n",
    "    encoded_control,\n",
    "    timesteps,\n",
    "    return_dict=False,\n",
    ")[0]"
   ]
  }
 ],
 "metadata": {
  "kernelspec": {
   "display_name": "base",
   "language": "python",
   "name": "python3"
  },
  "language_info": {
   "codemirror_mode": {
    "name": "ipython",
    "version": 3
   },
   "file_extension": ".py",
   "mimetype": "text/x-python",
   "name": "python",
   "nbconvert_exporter": "python",
   "pygments_lexer": "ipython3",
   "version": "3.11.10"
  }
 },
 "nbformat": 4,
 "nbformat_minor": 2
}
