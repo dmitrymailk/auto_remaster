{
 "cells": [
  {
   "cell_type": "code",
   "execution_count": 1,
   "metadata": {},
   "outputs": [],
   "source": [
    "import sys, os\n",
    "\n",
    "sys.path.append(\"inference_optimization/ArtSpew\")"
   ]
  },
  {
   "cell_type": "code",
   "execution_count": 3,
   "metadata": {},
   "outputs": [
    {
     "name": "stderr",
     "output_type": "stream",
     "text": [
      "/code/inference_optimization/ArtSpew/venv/lib/python3.10/site-packages/huggingface_hub/file_download.py:795: FutureWarning: `resume_download` is deprecated and will be removed in version 1.0.0. Downloads always resume when possible. If you want to force a new download, use `force_download=True`.\n",
      "  warnings.warn(\n",
      "Loading pipeline components...: 100%|██████████| 5/5 [00:00<00:00, 28.30it/s]\n"
     ]
    }
   ],
   "source": [
    "from src.prompt_sd15 import PromptSD15\n",
    "from src.stable_diffusion_base import StableDiffusionBase\n",
    "from diffusers import StableDiffusionPipeline\n",
    "import torch\n",
    "\n",
    "MODEL_ID_SD15 = \"stabilityai/sd-turbo\"\n",
    "pipe = StableDiffusionPipeline.from_pretrained(\n",
    "    MODEL_ID_SD15,\n",
    "    torch_dtype=torch.float16,\n",
    "    variant=\"fp16\",\n",
    "    safety_checker=None,\n",
    "    requires_safety_checker=False,\n",
    ")"
   ]
  },
  {
   "cell_type": "code",
   "execution_count": null,
   "metadata": {},
   "outputs": [],
   "source": []
  }
 ],
 "metadata": {
  "kernelspec": {
   "display_name": "venv",
   "language": "python",
   "name": "python3"
  },
  "language_info": {
   "codemirror_mode": {
    "name": "ipython",
    "version": 3
   },
   "file_extension": ".py",
   "mimetype": "text/x-python",
   "name": "python",
   "nbconvert_exporter": "python",
   "pygments_lexer": "ipython3",
   "version": "3.10.13"
  }
 },
 "nbformat": 4,
 "nbformat_minor": 2
}
