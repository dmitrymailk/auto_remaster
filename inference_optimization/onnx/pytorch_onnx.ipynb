{
 "cells": [
  {
   "cell_type": "markdown",
   "metadata": {},
   "source": [
    "https://pytorch.org/tutorials/beginner/onnx/export_simple_model_to_onnx_tutorial.html"
   ]
  },
  {
   "cell_type": "code",
   "execution_count": 1,
   "metadata": {},
   "outputs": [
    {
     "name": "stderr",
     "output_type": "stream",
     "text": [
      "/home/user-name-goes-here/.local/lib/python3.11/site-packages/onnxscript/converter.py:823: FutureWarning: 'onnxscript.values.Op.param_schemas' is deprecated in version 0.1 and will be removed in the future. Please use '.op_signature' instead.\n",
      "  param_schemas = callee.param_schemas()\n",
      "/home/user-name-goes-here/.local/lib/python3.11/site-packages/onnxscript/converter.py:823: FutureWarning: 'onnxscript.values.OnnxFunction.param_schemas' is deprecated in version 0.1 and will be removed in the future. Please use '.op_signature' instead.\n",
      "  param_schemas = callee.param_schemas()\n",
      "/opt/conda/lib/python3.11/site-packages/torch/onnx/_internal/_exporter_legacy.py:116: UserWarning: torch.onnx.dynamo_export only implements opset version 18 for now. If you need to use a different opset version, please register them with register_custom_op.\n",
      "  warnings.warn(\n",
      "/opt/conda/lib/python3.11/site-packages/torch/onnx/_internal/fx/onnxfunction_dispatcher.py:503: FutureWarning: 'onnxscript.values.TracedOnnxFunction.param_schemas' is deprecated in version 0.1 and will be removed in the future. Please use '.op_signature' instead.\n",
      "  self.param_schema = self.onnxfunction.param_schemas()\n"
     ]
    }
   ],
   "source": [
    "import torch\n",
    "import torch.nn as nn\n",
    "import torch.nn.functional as F\n",
    "\n",
    "\n",
    "class MyModel(nn.Module):\n",
    "\n",
    "    def __init__(self):\n",
    "        super(MyModel, self).__init__()\n",
    "        self.conv1 = nn.Conv2d(1, 6, 5)\n",
    "        self.conv2 = nn.Conv2d(6, 16, 5)\n",
    "        self.fc1 = nn.Linear(16 * 5 * 5, 120)\n",
    "        self.fc2 = nn.Linear(120, 84)\n",
    "        self.fc3 = nn.Linear(84, 10)\n",
    "\n",
    "    def forward(self, x):\n",
    "        x = F.max_pool2d(F.relu(self.conv1(x)), (2, 2))\n",
    "        x = F.max_pool2d(F.relu(self.conv2(x)), 2)\n",
    "        x = torch.flatten(x, 1)\n",
    "        x = F.relu(self.fc1(x))\n",
    "        x = F.relu(self.fc2(x))\n",
    "        x = self.fc3(x)\n",
    "        return x\n",
    "\n",
    "\n",
    "torch_model = MyModel().cuda()\n",
    "torch_input = torch.randn(1, 1, 32, 32).cuda()\n",
    "onnx_program = torch.onnx.dynamo_export(torch_model, torch_input)"
   ]
  },
  {
   "cell_type": "code",
   "execution_count": 2,
   "metadata": {},
   "outputs": [
    {
     "name": "stdout",
     "output_type": "stream",
     "text": [
      "0.9741103649139404\n"
     ]
    }
   ],
   "source": [
    "import time\n",
    "\n",
    "s = time.time()\n",
    "for _ in range(10000):\n",
    "    torch_model(torch_input)\n",
    "print(time.time() - s)\n",
    "# on cpu > 20 sec"
   ]
  },
  {
   "cell_type": "code",
   "execution_count": 3,
   "metadata": {},
   "outputs": [],
   "source": [
    "onnx_program.save(\"inference_optimization/onnx/my_image_classifier.onnx\")"
   ]
  },
  {
   "cell_type": "code",
   "execution_count": 4,
   "metadata": {},
   "outputs": [],
   "source": [
    "import onnx\n",
    "\n",
    "onnx_model = onnx.load(\"inference_optimization/onnx/my_image_classifier.onnx\")\n",
    "onnx.checker.check_model(onnx_model)"
   ]
  },
  {
   "cell_type": "code",
   "execution_count": null,
   "metadata": {},
   "outputs": [
    {
     "name": "stdout",
     "output_type": "stream",
     "text": [
      "Input length: 1\n",
      "Sample input: [tensor([[[[-0.8897, -2.0971,  1.5023,  ...,  1.0096, -0.3678, -1.0292],\n",
      "          [ 0.6269,  2.7181,  0.0274,  ...,  0.5774, -1.2199,  0.8947],\n",
      "          [-0.1511, -0.9477, -0.4847,  ..., -0.2903,  0.2606,  1.7323],\n",
      "          ...,\n",
      "          [ 1.4870,  1.1469,  0.0177,  ...,  0.6353, -0.6893,  0.1831],\n",
      "          [-1.9934,  0.2834,  1.1603,  ...,  2.8390,  0.5041,  0.6823],\n",
      "          [ 1.1443,  0.3378, -0.6748,  ...,  0.8843,  1.1407, -0.0104]]]],\n",
      "       device='cuda:0')]\n"
     ]
    },
    {
     "data": {
      "text/plain": [
       "[array([[ 0.06790137,  0.0826061 , -0.04508397, -0.08962326, -0.06593737,\n",
       "         -0.15124664,  0.07396881, -0.0775542 , -0.06990346, -0.07957613]],\n",
       "       dtype=float32)]"
      ]
     },
     "execution_count": 9,
     "metadata": {},
     "output_type": "execute_result"
    }
   ],
   "source": [
    "import onnxruntime\n",
    "\n",
    "# https://github.com/microsoft/onnxruntime/issues/21684#issuecomment-2300623788\n",
    "# pip install onnxruntime-gpu==1.19.0\n",
    "\n",
    "\n",
    "onnx_input = [torch_input]\n",
    "\n",
    "\n",
    "print(f\"Input length: {len(onnx_input)}\")\n",
    "\n",
    "\n",
    "print(f\"Sample input: {onnx_input}\")\n",
    "\n",
    "\n",
    "\n",
    "ort_session = onnxruntime.InferenceSession(\n",
    "    \"inference_optimization/onnx/my_image_classifier.onnx\",\n",
    "\n",
    "    providers=[\"CUDAExecutionProvider\"],\n",
    "    # providers=[\"CPUExecutionProvider\"],\n",
    ")\n",
    "\n",
    "\n",
    "\n",
    "def to_numpy(tensor):\n",
    "    return (\n",
    "\n",
    "        tensor.detach().cpu().numpy() if tensor.requires_grad else tensor.cpu().numpy()\n",
    "    )\n",
    "\n",
    "\n",
    "\n",
    "onnxruntime_input = {\n",
    "\n",
    "    k.name: to_numpy(v)\n",
    "    for k, v in zip(ort_session.get_inputs(), onnx_input)\n",
    "    # k.name: v[0] for k, v in zip(ort_session.get_inputs(), onnx_input)\n",
    "}\n",
    "\n",
    "\n",
    "\n",
    "# onnxruntime returns a list of outputs\n",
    "\n",
    "\n",
    "onnxruntime_outputs = ort_session.run(None, onnxruntime_input)\n",
    "onnxruntime_outputs"
   ]
  },
  {
   "cell_type": "code",
   "execution_count": null,
   "metadata": {},
   "outputs": [],
   "source": [
    "import time\n",
    "\n",
    "s = time.time()\n",
    "# see utilization of gpu\n",
    "for _ in range(1000000):\n",
    "    ort_session.run(None, onnxruntime_input)\n",
    "print(time.time() - s)"
   ]
  },
  {
   "cell_type": "code",
   "execution_count": 6,
   "metadata": {},
   "outputs": [
    {
     "name": "stdout",
     "output_type": "stream",
     "text": [
      "PyTorch and ONNX Runtime output matched!\n",
      "Output length: 1\n",
      "Sample output: [[ 0.05567859 -0.14844745  0.01186287  0.05035208 -0.08846587  0.03980439\n",
      "   0.10298605  0.06890388 -0.05330245  0.00457602]]\n"
     ]
    }
   ],
   "source": [
    "torch_outputs = torch_model(torch_input)\n",
    "\n",
    "assert len(torch_outputs) == len(onnxruntime_outputs)\n",
    "for torch_output, onnxruntime_output in zip(torch_outputs, onnxruntime_outputs):\n",
    "    torch.testing.assert_close(torch_output, torch.tensor(onnxruntime_output))\n",
    "\n",
    "print(\"PyTorch and ONNX Runtime output matched!\")\n",
    "print(f\"Output length: {len(onnxruntime_outputs)}\")\n",
    "print(f\"Sample output: {onnxruntime_outputs}\")"
   ]
  }
 ],
 "metadata": {
  "kernelspec": {
   "display_name": "base",
   "language": "python",
   "name": "python3"
  },
  "language_info": {
   "codemirror_mode": {
    "name": "ipython",
    "version": 3
   },
   "file_extension": ".py",
   "mimetype": "text/x-python",
   "name": "python",
   "nbconvert_exporter": "python",
   "pygments_lexer": "ipython3",
   "version": "3.11.10"
  }
 },
 "nbformat": 4,
 "nbformat_minor": 2
}
